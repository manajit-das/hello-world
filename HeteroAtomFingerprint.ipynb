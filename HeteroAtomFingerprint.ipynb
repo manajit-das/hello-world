{
 "cells": [
  {
   "cell_type": "code",
   "execution_count": 1,
   "metadata": {},
   "outputs": [],
   "source": [
    "from rdkit import Chem\n",
    "from rdkit.Chem import AllChem\n",
    "from rdkit.Chem import Draw\n",
    "from rdkit.Chem import Descriptors\n",
    "import numpy as np\n",
    "import pandas as pd"
   ]
  },
  {
   "cell_type": "code",
   "execution_count": 2,
   "metadata": {},
   "outputs": [],
   "source": [
    "def charge(mol, at_ind):\n",
    "    AllChem.ComputeGasteigerCharges(mol)\n",
    "    charges=mol.GetAtomWithIdx(at_ind).GetDoubleProp('_GasteigerCharge')\n",
    "    return charges"
   ]
  },
  {
   "cell_type": "code",
   "execution_count": 3,
   "metadata": {},
   "outputs": [],
   "source": [
    "#soc stands for sum over charge\n",
    "def soc(smile, startAtom):\n",
    "    mol=Chem.MolFromSmiles(smile)\n",
    "    Q0=charge(mol, startAtom)\n",
    "    #print(Q0)\n",
    "    \n",
    "    atom1 = mol.GetAtomWithIdx(startAtom)\n",
    "    radii1=[x.GetIdx() for x in atom1.GetNeighbors()]\n",
    "    Q1=sum([charge(mol, i) for i in radii1])\n",
    "    #print(Q1)\n",
    "    \n",
    "    initialRadii2=[]\n",
    "    for i in radii1:\n",
    "        atom2=mol.GetAtomWithIdx(i)\n",
    "        atIndRad2=[x.GetIdx() for x in atom2.GetNeighbors()]\n",
    "        initialRadii2.append(atIndRad2)\n",
    "    radii2  = set([val for sublist in initialRadii2 for val in sublist])\n",
    "    radii2.remove(startAtom)\n",
    "    numElement=len(radii2) #just to check how many atoms are there in radii2\n",
    "    Q2=sum([charge(mol, i) for i in radii2])\n",
    "    return Q0, Q1, Q2"
   ]
  },
  {
   "cell_type": "code",
   "execution_count": 4,
   "metadata": {},
   "outputs": [],
   "source": [
    "def mol_with_atom_index(mol):\n",
    "    for atom in mol.GetAtoms():\n",
    "        atom.SetAtomMapNum(atom.GetIdx())\n",
    "    return mol"
   ]
  },
  {
   "cell_type": "code",
   "execution_count": 5,
   "metadata": {},
   "outputs": [],
   "source": [
    "def heteroAtomIndexFinder(smile):\n",
    "    heteroList=[7, 8, 15, 16]\n",
    "    heteroIndex=[]\n",
    "    mol=Chem.MolFromSmiles(smile)\n",
    "    for i in heteroList:\n",
    "        for atom in mol.GetAtoms():\n",
    "            if atom.GetAtomicNum()==i:\n",
    "                heteroIndex.append(atom.GetIdx())\n",
    "                \n",
    "    aromaticity=[]\n",
    "    ringInfo=[]\n",
    "    hybridisation=[]\n",
    "    atomicNum=[]\n",
    "    Q0=[]\n",
    "    Q1=[]\n",
    "    Q2=[]\n",
    "    numHs=[]\n",
    "    for i in heteroIndex:\n",
    "        atom = mol.GetAtomWithIdx(i)\n",
    "        aromaticity.append(atom.GetIsAromatic())\n",
    "        ringInfo.append(atom.IsInRing())\n",
    "        hybridisation.append(atom.GetHybridization())\n",
    "        atomicNum.append(atom.GetAtomicNum())\n",
    "        Q0.append(soc(smile, i)[0])\n",
    "        Q1.append(soc(smile, i)[1])\n",
    "        Q2.append(soc(smile, i)[2])\n",
    "        numHs.append(atom.GetTotalNumHs())\n",
    "    return aromaticity, ringInfo, hybridisation, atomicNum, Q0, Q1, Q2, numHs"
   ]
  },
  {
   "cell_type": "code",
   "execution_count": 6,
   "metadata": {},
   "outputs": [],
   "source": [
    "def feature_vector(smile):\n",
    "    result=heteroAtomIndexFinder(smile)\n",
    "    mat1=np.array(list(result))\n",
    "    transposed_mat=mat1.transpose()\n",
    "    feat_vec=list(transposed_mat.flatten())\n",
    "    return feat_vec"
   ]
  },
  {
   "cell_type": "code",
   "execution_count": 7,
   "metadata": {},
   "outputs": [],
   "source": [
    "import os\n",
    "os.chdir('C:/Users/sunoj/Downloads')"
   ]
  },
  {
   "cell_type": "code",
   "execution_count": 8,
   "metadata": {},
   "outputs": [],
   "source": [
    "df=pd.read_csv('Bisphos_curated.csv')"
   ]
  },
  {
   "cell_type": "code",
   "execution_count": 9,
   "metadata": {},
   "outputs": [],
   "source": [
    "data=[]\n",
    "for i in df['CanonicalSMILES']:\n",
    "    data.append(feature_vector(i))"
   ]
  },
  {
   "cell_type": "code",
   "execution_count": 10,
   "metadata": {},
   "outputs": [],
   "source": [
    "df_data=pd.DataFrame(data)"
   ]
  },
  {
   "cell_type": "code",
   "execution_count": 11,
   "metadata": {},
   "outputs": [],
   "source": [
    "feature=['feat'+str(i) for i in range(80)]"
   ]
  },
  {
   "cell_type": "code",
   "execution_count": 12,
   "metadata": {},
   "outputs": [],
   "source": [
    "df_data.columns=feature"
   ]
  },
  {
   "cell_type": "code",
   "execution_count": 13,
   "metadata": {},
   "outputs": [],
   "source": [
    "df_data=df_data.fillna(0)"
   ]
  },
  {
   "cell_type": "code",
   "execution_count": 23,
   "metadata": {},
   "outputs": [
    {
     "data": {
      "text/html": [
       "<div>\n",
       "<style scoped>\n",
       "    .dataframe tbody tr th:only-of-type {\n",
       "        vertical-align: middle;\n",
       "    }\n",
       "\n",
       "    .dataframe tbody tr th {\n",
       "        vertical-align: top;\n",
       "    }\n",
       "\n",
       "    .dataframe thead th {\n",
       "        text-align: right;\n",
       "    }\n",
       "</style>\n",
       "<table border=\"1\" class=\"dataframe\">\n",
       "  <thead>\n",
       "    <tr style=\"text-align: right;\">\n",
       "      <th></th>\n",
       "      <th>feat0</th>\n",
       "      <th>feat1</th>\n",
       "      <th>feat2</th>\n",
       "      <th>feat3</th>\n",
       "      <th>feat4</th>\n",
       "      <th>feat5</th>\n",
       "      <th>feat6</th>\n",
       "      <th>feat7</th>\n",
       "      <th>feat8</th>\n",
       "      <th>feat9</th>\n",
       "      <th>...</th>\n",
       "      <th>feat70</th>\n",
       "      <th>feat71</th>\n",
       "      <th>feat72</th>\n",
       "      <th>feat73</th>\n",
       "      <th>feat74</th>\n",
       "      <th>feat75</th>\n",
       "      <th>feat76</th>\n",
       "      <th>feat77</th>\n",
       "      <th>feat78</th>\n",
       "      <th>feat79</th>\n",
       "    </tr>\n",
       "  </thead>\n",
       "  <tbody>\n",
       "    <tr>\n",
       "      <th>0</th>\n",
       "      <td>0.0</td>\n",
       "      <td>0.0</td>\n",
       "      <td>4.0</td>\n",
       "      <td>8.0</td>\n",
       "      <td>-0.381373</td>\n",
       "      <td>0.094205</td>\n",
       "      <td>-0.050429</td>\n",
       "      <td>0.0</td>\n",
       "      <td>0.0</td>\n",
       "      <td>0.0</td>\n",
       "      <td>...</td>\n",
       "      <td>0.0</td>\n",
       "      <td>0.0</td>\n",
       "      <td>0.0</td>\n",
       "      <td>0.0</td>\n",
       "      <td>0.0</td>\n",
       "      <td>0.0</td>\n",
       "      <td>0.0</td>\n",
       "      <td>0.0</td>\n",
       "      <td>0.0</td>\n",
       "      <td>0.0</td>\n",
       "    </tr>\n",
       "    <tr>\n",
       "      <th>1</th>\n",
       "      <td>0.0</td>\n",
       "      <td>0.0</td>\n",
       "      <td>4.0</td>\n",
       "      <td>15.0</td>\n",
       "      <td>-0.043965</td>\n",
       "      <td>-0.058985</td>\n",
       "      <td>-0.236776</td>\n",
       "      <td>0.0</td>\n",
       "      <td>0.0</td>\n",
       "      <td>0.0</td>\n",
       "      <td>...</td>\n",
       "      <td>0.0</td>\n",
       "      <td>0.0</td>\n",
       "      <td>0.0</td>\n",
       "      <td>0.0</td>\n",
       "      <td>0.0</td>\n",
       "      <td>0.0</td>\n",
       "      <td>0.0</td>\n",
       "      <td>0.0</td>\n",
       "      <td>0.0</td>\n",
       "      <td>0.0</td>\n",
       "    </tr>\n",
       "    <tr>\n",
       "      <th>2</th>\n",
       "      <td>0.0</td>\n",
       "      <td>0.0</td>\n",
       "      <td>4.0</td>\n",
       "      <td>15.0</td>\n",
       "      <td>-0.099989</td>\n",
       "      <td>-0.069436</td>\n",
       "      <td>-0.214019</td>\n",
       "      <td>0.0</td>\n",
       "      <td>0.0</td>\n",
       "      <td>0.0</td>\n",
       "      <td>...</td>\n",
       "      <td>0.0</td>\n",
       "      <td>0.0</td>\n",
       "      <td>0.0</td>\n",
       "      <td>0.0</td>\n",
       "      <td>0.0</td>\n",
       "      <td>0.0</td>\n",
       "      <td>0.0</td>\n",
       "      <td>0.0</td>\n",
       "      <td>0.0</td>\n",
       "      <td>0.0</td>\n",
       "    </tr>\n",
       "  </tbody>\n",
       "</table>\n",
       "<p>3 rows × 80 columns</p>\n",
       "</div>"
      ],
      "text/plain": [
       "   feat0  feat1  feat2  feat3     feat4     feat5     feat6  feat7  feat8  \\\n",
       "0    0.0    0.0    4.0    8.0 -0.381373  0.094205 -0.050429    0.0    0.0   \n",
       "1    0.0    0.0    4.0   15.0 -0.043965 -0.058985 -0.236776    0.0    0.0   \n",
       "2    0.0    0.0    4.0   15.0 -0.099989 -0.069436 -0.214019    0.0    0.0   \n",
       "\n",
       "   feat9  ...  feat70  feat71  feat72  feat73  feat74  feat75  feat76  feat77  \\\n",
       "0    0.0  ...     0.0     0.0     0.0     0.0     0.0     0.0     0.0     0.0   \n",
       "1    0.0  ...     0.0     0.0     0.0     0.0     0.0     0.0     0.0     0.0   \n",
       "2    0.0  ...     0.0     0.0     0.0     0.0     0.0     0.0     0.0     0.0   \n",
       "\n",
       "   feat78  feat79  \n",
       "0     0.0     0.0  \n",
       "1     0.0     0.0  \n",
       "2     0.0     0.0  \n",
       "\n",
       "[3 rows x 80 columns]"
      ]
     },
     "execution_count": 23,
     "metadata": {},
     "output_type": "execute_result"
    }
   ],
   "source": [
    "df_data.head(3)"
   ]
  },
  {
   "cell_type": "code",
   "execution_count": 86,
   "metadata": {},
   "outputs": [
    {
     "data": {
      "image/png": "[encoded data removed]",
      "text/plain": [
       "<rdkit.Chem.rdchem.Mol at 0x27a39041b20>"
      ]
     },
     "execution_count": 86,
     "metadata": {},
     "output_type": "execute_result"
    }
   ],
   "source": [
    "mol=Chem.MolFromSmiles(df['CanonicalSMILES'][42])\n",
    "mol"
   ]
  },
  {
   "cell_type": "code",
   "execution_count": 80,
   "metadata": {},
   "outputs": [],
   "source": [
    "features_order=['aromaticity', 'ringInfo', 'hybridisation', 'atomicNum', 'Q0', 'Q1', 'Q2', 'numHs']"
   ]
  },
  {
   "cell_type": "code",
   "execution_count": 85,
   "metadata": {},
   "outputs": [
    {
     "data": {
      "text/html": [
       "<div>\n",
       "<style scoped>\n",
       "    .dataframe tbody tr th:only-of-type {\n",
       "        vertical-align: middle;\n",
       "    }\n",
       "\n",
       "    .dataframe tbody tr th {\n",
       "        vertical-align: top;\n",
       "    }\n",
       "\n",
       "    .dataframe thead th {\n",
       "        text-align: right;\n",
       "    }\n",
       "</style>\n",
       "<table border=\"1\" class=\"dataframe\">\n",
       "  <thead>\n",
       "    <tr style=\"text-align: right;\">\n",
       "      <th></th>\n",
       "      <th>feat8</th>\n",
       "      <th>feat9</th>\n",
       "      <th>feat10</th>\n",
       "      <th>feat11</th>\n",
       "      <th>feat12</th>\n",
       "      <th>feat13</th>\n",
       "      <th>feat14</th>\n",
       "      <th>feat15</th>\n",
       "      <th>feat16</th>\n",
       "      <th>feat17</th>\n",
       "      <th>feat18</th>\n",
       "      <th>feat19</th>\n",
       "      <th>feat20</th>\n",
       "      <th>feat21</th>\n",
       "      <th>feat22</th>\n",
       "      <th>feat23</th>\n",
       "      <th>feat24</th>\n",
       "    </tr>\n",
       "  </thead>\n",
       "  <tbody>\n",
       "    <tr>\n",
       "      <th>41</th>\n",
       "      <td>0.0</td>\n",
       "      <td>1.0</td>\n",
       "      <td>4.0</td>\n",
       "      <td>15.0</td>\n",
       "      <td>-0.090980</td>\n",
       "      <td>-0.01796</td>\n",
       "      <td>-0.191564</td>\n",
       "      <td>0.0</td>\n",
       "      <td>0.0</td>\n",
       "      <td>0.0</td>\n",
       "      <td>0.0</td>\n",
       "      <td>0.0</td>\n",
       "      <td>0.00000</td>\n",
       "      <td>0.000000</td>\n",
       "      <td>0.000000</td>\n",
       "      <td>0.0</td>\n",
       "      <td>0.0</td>\n",
       "    </tr>\n",
       "    <tr>\n",
       "      <th>42</th>\n",
       "      <td>0.0</td>\n",
       "      <td>1.0</td>\n",
       "      <td>4.0</td>\n",
       "      <td>15.0</td>\n",
       "      <td>-0.068697</td>\n",
       "      <td>-0.05171</td>\n",
       "      <td>-0.242000</td>\n",
       "      <td>0.0</td>\n",
       "      <td>0.0</td>\n",
       "      <td>1.0</td>\n",
       "      <td>4.0</td>\n",
       "      <td>15.0</td>\n",
       "      <td>0.12108</td>\n",
       "      <td>-0.270393</td>\n",
       "      <td>-0.259873</td>\n",
       "      <td>0.0</td>\n",
       "      <td>0.0</td>\n",
       "    </tr>\n",
       "  </tbody>\n",
       "</table>\n",
       "</div>"
      ],
      "text/plain": [
       "    feat8  feat9  feat10  feat11    feat12   feat13    feat14  feat15  feat16  \\\n",
       "41    0.0    1.0     4.0    15.0 -0.090980 -0.01796 -0.191564     0.0     0.0   \n",
       "42    0.0    1.0     4.0    15.0 -0.068697 -0.05171 -0.242000     0.0     0.0   \n",
       "\n",
       "    feat17  feat18  feat19   feat20    feat21    feat22  feat23  feat24  \n",
       "41     0.0     0.0     0.0  0.00000  0.000000  0.000000     0.0     0.0  \n",
       "42     1.0     4.0    15.0  0.12108 -0.270393 -0.259873     0.0     0.0  "
      ]
     },
     "execution_count": 85,
     "metadata": {},
     "output_type": "execute_result"
    }
   ],
   "source": [
    "df_data.iloc[41:43, 8:25]"
   ]
  },
  {
   "cell_type": "code",
   "execution_count": 75,
   "metadata": {},
   "outputs": [
    {
     "data": {
      "text/plain": [
       "'C1=CC=C2C(=C1)P3C4=CC=CC=C4P2C5=CC=CC=C53'"
      ]
     },
     "execution_count": 75,
     "metadata": {},
     "output_type": "execute_result"
    }
   ],
   "source": [
    "df['CanonicalSMILES'][50]"
   ]
  },
  {
   "cell_type": "code",
   "execution_count": null,
   "metadata": {},
   "outputs": [],
   "source": []
  }
 ],
 "metadata": {
  "kernelspec": {
   "display_name": "Python 3",
   "language": "python",
   "name": "python3"
  },
  "language_info": {
   "codemirror_mode": {
    "name": "ipython",
    "version": 3
   },
   "file_extension": ".py",
   "mimetype": "text/x-python",
   "name": "python",
   "nbconvert_exporter": "python",
   "pygments_lexer": "ipython3",
   "version": "3.8.5"
  }
 },
 "nbformat": 4,
 "nbformat_minor": 4
}
