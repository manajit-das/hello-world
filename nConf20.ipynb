{
  "nbformat": 4,
  "nbformat_minor": 0,
  "metadata": {
    "colab": {
      "provenance": []
    },
    "kernelspec": {
      "name": "python3",
      "display_name": "Python 3"
    },
    "language_info": {
      "name": "python"
    }
  },
  "cells": [
    {
      "cell_type": "code",
      "execution_count": 1,
      "metadata": {
        "id": "RThbGWGZ-_OJ"
      },
      "outputs": [],
      "source": [
        "#The following code is from the paper: 'Beyond Rotatable Bond Counts: Capturing 3D Conformational Flexibility in a Single Descriptor'\n",
        "#I liked the code; Thankfully, the code is given, with a very little modification it works perfectly and the idea is simple but effective\n",
        "#and I found it interesting\n",
        "#link: https://pubs.acs.org/doi/pdf/10.1021/acs.jcim.6b00565"
      ]
    },
    {
      "cell_type": "code",
      "source": [
        "!pip install rdkit -q"
      ],
      "metadata": {
        "colab": {
          "base_uri": "https://localhost:8080/"
        },
        "id": "qX1gX_90_XVb",
        "outputId": "7f485e6a-af9f-4335-aab1-701c396897c1"
      },
      "execution_count": 2,
      "outputs": [
        {
          "output_type": "stream",
          "name": "stdout",
          "text": [
            "\u001b[2K     \u001b[90m━━━━━━━━━━━━━━━━━━━━━━━━━━━━━━━━━━━━━━━━\u001b[0m \u001b[32m29.7/29.7 MB\u001b[0m \u001b[31m29.8 MB/s\u001b[0m eta \u001b[36m0:00:00\u001b[0m\n",
            "\u001b[?25h"
          ]
        }
      ]
    },
    {
      "cell_type": "code",
      "source": [
        "from rdkit import Chem\n",
        "from rdkit.Chem import AllChem\n",
        "from collections import OrderedDict\n",
        "import numpy as np"
      ],
      "metadata": {
        "id": "KhI7d1Hu_b2j"
      },
      "execution_count": 3,
      "outputs": []
    },
    {
      "cell_type": "code",
      "source": [
        "def GenerateConformers(mol, numConfs):\n",
        "  molecule = Chem.AddHs(mol)\n",
        "  conformerIntegers = []\n",
        "  conformers = AllChem.EmbedMultipleConfs(molecule, numConfs, pruneRmsThresh = 0.5, numThreads =3)\n",
        "  optimized_and_energies = AllChem.MMFFOptimizeMoleculeConfs(molecule, maxIters=600, numThreads=3, nonBondedThresh=100.0)\n",
        "  EnergyDictionaryWithIDAsKey = {}\n",
        "  FinalConformersToUse = {}\n",
        "  for conformer in conformers:\n",
        "    optimized, energy = optimized_and_energies[conformer]\n",
        "    if optimized == 0:\n",
        "      EnergyDictionaryWithIDAsKey[conformer] = energy\n",
        "      conformerIntegers.append(conformer)\n",
        "\n",
        "  lowestenergy = min(EnergyDictionaryWithIDAsKey.values())\n",
        "\n",
        "  for k, v in EnergyDictionaryWithIDAsKey.items():\n",
        "    if v == lowestenergy:\n",
        "      lowestEnergyConformerID = k\n",
        "\n",
        "  FinalConformersToUse[lowestEnergyConformerID] = lowestenergy\n",
        "  molecule = AllChem.RemoveHs(molecule)\n",
        "  matches = molecule.GetSubstructMatches(molecule, uniquify = False)\n",
        "  maps = [list(enumerate(match)) for match in matches]\n",
        "\n",
        "  for conformerID in EnergyDictionaryWithIDAsKey.keys():\n",
        "    okayToAdd = True\n",
        "\n",
        "    for finalconformerID in FinalConformersToUse.keys():\n",
        "      RMS = AllChem.GetBestRMS(molecule, molecule, finalconformerID, conformerID, maps)\n",
        "      if RMS < 1.0:\n",
        "        okayToAdd = False\n",
        "        break\n",
        "\n",
        "    if okayToAdd:\n",
        "      FinalConformersToUse[conformerID] = EnergyDictionaryWithIDAsKey[conformerID]\n",
        "  sortedDictionary = OrderedDict(sorted(FinalConformersToUse.items(),\n",
        "                                        key=lambda t: t[1]))\n",
        "  #print(sortedDictionary)\n",
        "  energies = [val for val in sortedDictionary.values()]\n",
        "\n",
        "  return energies\n",
        "\n",
        "def Calc_nConf20(energylist):\n",
        "  energy_descriptor = 0\n",
        "  relativeenergies = np.array(energylist) - energylist[0]\n",
        "\n",
        "  for energy in relativeenergies[1:]:\n",
        "    if 0<= energy <20:\n",
        "      energy_descriptor += 1\n",
        "  return energy_descriptor"
      ],
      "metadata": {
        "id": "vsgwwzsV_cQT"
      },
      "execution_count": 4,
      "outputs": []
    },
    {
      "cell_type": "code",
      "source": [
        "example_molecule = Chem.MolFromSmiles('C=C(C(C)CCCCCC)C1=CC=C(CCC2CCCC2)C=C1')\n",
        "example_molecule"
      ],
      "metadata": {
        "colab": {
          "base_uri": "https://localhost:8080/",
          "height": 167
        },
        "id": "3UrR1jI5_gx9",
        "outputId": "fd5b3bac-7c93-4102-cf35-3e79a01faac5"
      },
      "execution_count": 5,
      "outputs": [
        {
          "output_type": "execute_result",
          "data": {
            "text/plain": [
              "<rdkit.Chem.rdchem.Mol at 0x7a555d849690>"
            ],
            "image/png": "[encoded data removed]"
          },
          "metadata": {},
          "execution_count": 5
        }
      ]
    },
    {
      "cell_type": "code",
      "source": [
        "example_energylist = GenerateConformers(example_molecule, 50)\n",
        "example_energy_descriptor = Calc_nConf20(example_energylist)\n",
        "print(example_energy_descriptor)"
      ],
      "metadata": {
        "colab": {
          "base_uri": "https://localhost:8080/"
        },
        "id": "FgCqDPFB_jRM",
        "outputId": "b6c13803-ba8e-4a57-9d88-3e4d5327cd28"
      },
      "execution_count": 6,
      "outputs": [
        {
          "output_type": "stream",
          "name": "stdout",
          "text": [
            "28\n"
          ]
        }
      ]
    },
    {
      "cell_type": "code",
      "source": [
        "#the idea can be used in ML model building, I think it is an useful feature."
      ],
      "metadata": {
        "id": "MBaPogJ1_kx0"
      },
      "execution_count": null,
      "outputs": []
    }
  ]
}
