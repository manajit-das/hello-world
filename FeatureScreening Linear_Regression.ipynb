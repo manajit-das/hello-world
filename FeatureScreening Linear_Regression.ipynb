{
 "cells": [
  {
   "cell_type": "code",
   "execution_count": 4,
   "metadata": {},
   "outputs": [],
   "source": [
    "#import the libraries\n",
    "import os\n",
    "os.chdir('C:/Users/sunoj/Documents/RelayHeck_ML') #Path to your csv file\n",
    "import pandas as pd\n",
    "import numpy as np\n",
    "from math import sqrt\n",
    "from itertools import permutations, combinations\n",
    "from sklearn.linear_model import LinearRegression\n",
    "from sklearn.model_selection import train_test_split\n",
    "from sklearn.metrics import mean_squared_error"
   ]
  },
  {
   "cell_type": "code",
   "execution_count": 2,
   "metadata": {},
   "outputs": [],
   "source": [
    "#Read your csv file as dataframe\n",
    "df=pd.read_csv('RelayHeckTrainData.csv')"
   ]
  },
  {
   "cell_type": "code",
   "execution_count": 3,
   "metadata": {},
   "outputs": [],
   "source": [
    "#Make a list of Features for which you want to build linearRegression model\n",
    "feature_list=['HOMO-A', 'HOMO-L', 'DA1-2-8-7-L', 'B1-R2-L', 'q1-N', 'L-R4-S', 'NMR5-S', 'q6-S', 'VF5-6-S']"
   ]
  },
  {
   "cell_type": "code",
   "execution_count": 6,
   "metadata": {},
   "outputs": [],
   "source": [
    "def Regression(df, col_list, feat_len):\n",
    "    \"\"\"df is dataframe; \n",
    "       col_list is the list of feature, subset of all feature; and \n",
    "       feat_len is number of feature on which all combination of feature will be tested\"\"\"\n",
    "    comb=combinations(col_list, feat_len)\n",
    "    comb=[list(ele) for ele in comb]\n",
    "    for i in comb:\n",
    "        X=df[i]\n",
    "        y=df.iloc[:, -1]\n",
    "        model=LinearRegression()\n",
    "        X_train, X_test, y_train, y_test=train_test_split(X, y, test_size=0.2, random_state=42)\n",
    "        model.fit(X_train, y_train)\n",
    "        y_pred=model.predict(X_test)\n",
    "        mse=mean_squared_error(y_pred, y_test)\n",
    "        print(i, sqrt(mse))"
   ]
  },
  {
   "cell_type": "code",
   "execution_count": 8,
   "metadata": {},
   "outputs": [
    {
     "name": "stdout",
     "output_type": "stream",
     "text": [
      "['HOMO-A', 'HOMO-L', 'DA1-2-8-7-L'] 15.463078267884095\n",
      "['HOMO-A', 'HOMO-L', 'B1-R2-L'] 13.490225218342932\n",
      "['HOMO-A', 'HOMO-L', 'q1-N'] 15.331162493719884\n",
      "['HOMO-A', 'HOMO-L', 'L-R4-S'] 15.421459783521229\n",
      "['HOMO-A', 'HOMO-L', 'NMR5-S'] 14.858379700843377\n",
      "['HOMO-A', 'HOMO-L', 'q6-S'] 14.69702272801182\n",
      "['HOMO-A', 'HOMO-L', 'VF5-6-S'] 15.18585704682812\n",
      "['HOMO-A', 'DA1-2-8-7-L', 'B1-R2-L'] 14.178051953227884\n",
      "['HOMO-A', 'DA1-2-8-7-L', 'q1-N'] 15.661474688427317\n",
      "['HOMO-A', 'DA1-2-8-7-L', 'L-R4-S'] 15.865845796533339\n",
      "['HOMO-A', 'DA1-2-8-7-L', 'NMR5-S'] 15.31238240620812\n",
      "['HOMO-A', 'DA1-2-8-7-L', 'q6-S'] 15.158667657652932\n",
      "['HOMO-A', 'DA1-2-8-7-L', 'VF5-6-S'] 15.59770638867408\n",
      "['HOMO-A', 'B1-R2-L', 'q1-N'] 14.1236419423357\n",
      "['HOMO-A', 'B1-R2-L', 'L-R4-S'] 14.194323630982936\n",
      "['HOMO-A', 'B1-R2-L', 'NMR5-S'] 13.950361549577263\n",
      "['HOMO-A', 'B1-R2-L', 'q6-S'] 13.917590179221735\n",
      "['HOMO-A', 'B1-R2-L', 'VF5-6-S'] 14.155046552701574\n",
      "['HOMO-A', 'q1-N', 'L-R4-S'] 15.835113526666385\n",
      "['HOMO-A', 'q1-N', 'NMR5-S'] 15.37929760351355\n",
      "['HOMO-A', 'q1-N', 'q6-S'] 15.146914675246007\n",
      "['HOMO-A', 'q1-N', 'VF5-6-S'] 15.670260753855128\n",
      "['HOMO-A', 'L-R4-S', 'NMR5-S'] 15.430075172815547\n",
      "['HOMO-A', 'L-R4-S', 'q6-S'] 15.123731003019827\n",
      "['HOMO-A', 'L-R4-S', 'VF5-6-S'] 15.805996671018988\n",
      "['HOMO-A', 'NMR5-S', 'q6-S'] 15.251192214287068\n",
      "['HOMO-A', 'NMR5-S', 'VF5-6-S'] 15.359759036736031\n",
      "['HOMO-A', 'q6-S', 'VF5-6-S'] 15.176016742641869\n",
      "['HOMO-L', 'DA1-2-8-7-L', 'B1-R2-L'] 13.454428825257473\n",
      "['HOMO-L', 'DA1-2-8-7-L', 'q1-N'] 15.599112609902624\n",
      "['HOMO-L', 'DA1-2-8-7-L', 'L-R4-S'] 15.640302400683458\n",
      "['HOMO-L', 'DA1-2-8-7-L', 'NMR5-S'] 14.937310842499672\n",
      "['HOMO-L', 'DA1-2-8-7-L', 'q6-S'] 14.744755429498536\n",
      "['HOMO-L', 'DA1-2-8-7-L', 'VF5-6-S'] 15.240291175726902\n",
      "['HOMO-L', 'B1-R2-L', 'q1-N'] 13.42337353928123\n",
      "['HOMO-L', 'B1-R2-L', 'L-R4-S'] 13.484500674548329\n",
      "['HOMO-L', 'B1-R2-L', 'NMR5-S'] 13.459953298514783\n",
      "['HOMO-L', 'B1-R2-L', 'q6-S'] 13.443325965479227\n",
      "['HOMO-L', 'B1-R2-L', 'VF5-6-S'] 13.526614354963995\n",
      "['HOMO-L', 'q1-N', 'L-R4-S'] 15.580932099856451\n",
      "['HOMO-L', 'q1-N', 'NMR5-S'] 14.87145590849801\n",
      "['HOMO-L', 'q1-N', 'q6-S'] 14.679201812063157\n",
      "['HOMO-L', 'q1-N', 'VF5-6-S'] 15.186771558186646\n",
      "['HOMO-L', 'L-R4-S', 'NMR5-S'] 14.925246214813406\n",
      "['HOMO-L', 'L-R4-S', 'q6-S'] 14.692585923792507\n",
      "['HOMO-L', 'L-R4-S', 'VF5-6-S'] 15.248660148868057\n",
      "['HOMO-L', 'NMR5-S', 'q6-S'] 14.761805121216385\n",
      "['HOMO-L', 'NMR5-S', 'VF5-6-S'] 14.694294215810306\n",
      "['HOMO-L', 'q6-S', 'VF5-6-S'] 14.468397206823548\n",
      "['DA1-2-8-7-L', 'B1-R2-L', 'q1-N'] 14.227927036573591\n",
      "['DA1-2-8-7-L', 'B1-R2-L', 'L-R4-S'] 14.25575760795789\n",
      "['DA1-2-8-7-L', 'B1-R2-L', 'NMR5-S'] 13.953594202361195\n",
      "['DA1-2-8-7-L', 'B1-R2-L', 'q6-S'] 13.874297097492887\n",
      "['DA1-2-8-7-L', 'B1-R2-L', 'VF5-6-S'] 14.171919357462054\n",
      "['DA1-2-8-7-L', 'q1-N', 'L-R4-S'] 15.985783733284496\n",
      "['DA1-2-8-7-L', 'q1-N', 'NMR5-S'] 15.297455861469905\n",
      "['DA1-2-8-7-L', 'q1-N', 'q6-S'] 15.10273362765623\n",
      "['DA1-2-8-7-L', 'q1-N', 'VF5-6-S'] 15.548150998828213\n",
      "['DA1-2-8-7-L', 'L-R4-S', 'NMR5-S'] 15.358692142689389\n",
      "['DA1-2-8-7-L', 'L-R4-S', 'q6-S'] 15.191266220063286\n",
      "['DA1-2-8-7-L', 'L-R4-S', 'VF5-6-S'] 15.63393797134704\n",
      "['DA1-2-8-7-L', 'NMR5-S', 'q6-S'] 15.243706360037377\n",
      "['DA1-2-8-7-L', 'NMR5-S', 'VF5-6-S'] 15.298523260743774\n",
      "['DA1-2-8-7-L', 'q6-S', 'VF5-6-S'] 15.15258340065724\n",
      "['B1-R2-L', 'q1-N', 'L-R4-S'] 14.233735998655833\n",
      "['B1-R2-L', 'q1-N', 'NMR5-S'] 13.953032640925102\n",
      "['B1-R2-L', 'q1-N', 'q6-S'] 13.896431360396802\n",
      "['B1-R2-L', 'q1-N', 'VF5-6-S'] 14.166272211421909\n",
      "['B1-R2-L', 'L-R4-S', 'NMR5-S'] 13.98147185760473\n",
      "['B1-R2-L', 'L-R4-S', 'q6-S'] 13.877152206967105\n",
      "['B1-R2-L', 'L-R4-S', 'VF5-6-S'] 14.190620524465764\n",
      "['B1-R2-L', 'NMR5-S', 'q6-S'] 13.975552139998625\n",
      "['B1-R2-L', 'NMR5-S', 'VF5-6-S'] 13.63374863664976\n",
      "['B1-R2-L', 'q6-S', 'VF5-6-S'] 13.712229973331203\n",
      "['q1-N', 'L-R4-S', 'NMR5-S'] 15.421133629269633\n",
      "['q1-N', 'L-R4-S', 'q6-S'] 15.13855653577698\n",
      "['q1-N', 'L-R4-S', 'VF5-6-S'] 15.720244045043467\n",
      "['q1-N', 'NMR5-S', 'q6-S'] 15.201853346162855\n",
      "['q1-N', 'NMR5-S', 'VF5-6-S'] 15.351190347911908\n",
      "['q1-N', 'q6-S', 'VF5-6-S'] 15.035387614081209\n",
      "['L-R4-S', 'NMR5-S', 'q6-S'] 15.252143765054981\n",
      "['L-R4-S', 'NMR5-S', 'VF5-6-S'] 15.376676083333276\n",
      "['L-R4-S', 'q6-S', 'VF5-6-S'] 15.091296937364017\n",
      "['NMR5-S', 'q6-S', 'VF5-6-S'] 15.038770857715694\n"
     ]
    }
   ],
   "source": [
    "#Lets do it now\n",
    "Regression(df, feature_list, 3)"
   ]
  },
  {
   "cell_type": "code",
   "execution_count": null,
   "metadata": {},
   "outputs": [],
   "source": []
  }
 ],
 "metadata": {
  "kernelspec": {
   "display_name": "Python 3",
   "language": "python",
   "name": "python3"
  },
  "language_info": {
   "codemirror_mode": {
    "name": "ipython",
    "version": 3
   },
   "file_extension": ".py",
   "mimetype": "text/x-python",
   "name": "python",
   "nbconvert_exporter": "python",
   "pygments_lexer": "ipython3",
   "version": "3.8.5"
  }
 },
 "nbformat": 4,
 "nbformat_minor": 4
}
