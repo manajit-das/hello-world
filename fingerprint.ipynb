{
 "cells": [
  {
   "cell_type": "code",
   "execution_count": 1,
   "id": "d4aad855",
   "metadata": {},
   "outputs": [],
   "source": [
    "from rdkit import Chem\n",
    "import numpy as np\n",
    "import pandas as pd\n",
    "from rdkit.Chem import MACCSkeys, AllChem, rdmolops, Draw"
   ]
  },
  {
   "cell_type": "code",
   "execution_count": 4,
   "id": "b82f2d5e",
   "metadata": {},
   "outputs": [],
   "source": [
    "#First make a list of SMILES for which you want to get the fingerprints\n",
    "smilesList=['CCCN', 'CCNCC', 'CCPCCOC']"
   ]
  },
  {
   "cell_type": "code",
   "execution_count": 5,
   "id": "03703cd8",
   "metadata": {},
   "outputs": [],
   "source": [
    "def MaccsFpCalc(smiles):\n",
    "    mols=[Chem.MolFromSmiles(i) for i in smiles]\n",
    "    fps=[MACCSkeys.GenMACCSKeys(i) for i in mols]\n",
    "    fps=np.array(fps)\n",
    "    return fps"
   ]
  },
  {
   "cell_type": "code",
   "execution_count": 6,
   "id": "03582ba9",
   "metadata": {},
   "outputs": [],
   "source": [
    "maccsFps=MaccsFpCalc(smilesList)"
   ]
  },
  {
   "cell_type": "code",
   "execution_count": 8,
   "id": "ce20ee83",
   "metadata": {},
   "outputs": [
    {
     "data": {
      "text/plain": [
       "(3, 167)"
      ]
     },
     "execution_count": 8,
     "metadata": {},
     "output_type": "execute_result"
    }
   ],
   "source": [
    "maccsFps.shape #save it to a dataframe; and you are ready to go"
   ]
  },
  {
   "cell_type": "code",
   "execution_count": 9,
   "id": "32e467a3",
   "metadata": {},
   "outputs": [],
   "source": [
    "def MorganFpCalc(smiles):\n",
    "    mols=[Chem.MolFromSmiles(i) for i in smiles]\n",
    "    fps = [AllChem.GetMorganFingerprintAsBitVect(i, 2, nBits=1024) for i in mols] \n",
    "    fps=np.array(fps)\n",
    "    return fps"
   ]
  },
  {
   "cell_type": "code",
   "execution_count": 10,
   "id": "8fdbb55a",
   "metadata": {},
   "outputs": [],
   "source": [
    "morganFps=MorganFpCalc(smilesList)"
   ]
  },
  {
   "cell_type": "code",
   "execution_count": 12,
   "id": "60d6585a",
   "metadata": {},
   "outputs": [
    {
     "data": {
      "text/plain": [
       "array([[0, 0, 0, ..., 0, 0, 0],\n",
       "       [0, 0, 0, ..., 0, 0, 0],\n",
       "       [0, 0, 0, ..., 0, 0, 0]])"
      ]
     },
     "execution_count": 12,
     "metadata": {},
     "output_type": "execute_result"
    }
   ],
   "source": [
    "morganFps #save it to dataframe and then to csv; fly.."
   ]
  },
  {
   "cell_type": "code",
   "execution_count": 14,
   "id": "1470dcf0",
   "metadata": {},
   "outputs": [],
   "source": [
    "def TopoFpCalc(smiles):\n",
    "    mols=[Chem.MolFromSmiles(i) for i in smiles]\n",
    "    fps=[rdmolops.RDKFingerprint(i, fpSize=2048, minPath=1, maxPath=7) for i in mols]\n",
    "    fps=np.array(fps)\n",
    "    return fps"
   ]
  },
  {
   "cell_type": "code",
   "execution_count": 15,
   "id": "0e3edfc7",
   "metadata": {},
   "outputs": [],
   "source": [
    "topoFps=TopoFpCalc(smilesList)"
   ]
  },
  {
   "cell_type": "code",
   "execution_count": 16,
   "id": "e942c985",
   "metadata": {},
   "outputs": [
    {
     "data": {
      "text/plain": [
       "array([[0, 0, 0, ..., 0, 0, 1],\n",
       "       [0, 0, 0, ..., 0, 0, 1],\n",
       "       [0, 0, 0, ..., 0, 0, 0]])"
      ]
     },
     "execution_count": 16,
     "metadata": {},
     "output_type": "execute_result"
    }
   ],
   "source": [
    "topoFps #save it to dataframe; that's it"
   ]
  },
  {
   "cell_type": "code",
   "execution_count": null,
   "id": "9bdd1af8",
   "metadata": {},
   "outputs": [],
   "source": []
  }
 ],
 "metadata": {
  "kernelspec": {
   "display_name": "Python 3",
   "language": "python",
   "name": "python3"
  },
  "language_info": {
   "codemirror_mode": {
    "name": "ipython",
    "version": 3
   },
   "file_extension": ".py",
   "mimetype": "text/x-python",
   "name": "python",
   "nbconvert_exporter": "python",
   "pygments_lexer": "ipython3",
   "version": "3.8.5"
  }
 },
 "nbformat": 4,
 "nbformat_minor": 5
}
