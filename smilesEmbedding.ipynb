{
 "cells": [
  {
   "cell_type": "code",
   "execution_count": 1,
   "id": "normal-planet",
   "metadata": {},
   "outputs": [],
   "source": [
    "#Here the goal is to embedd SMILES; for which i need to tokenize the SMILES first ; let's do it"
   ]
  },
  {
   "cell_type": "code",
   "execution_count": 22,
   "id": "wound-howard",
   "metadata": {},
   "outputs": [],
   "source": [
    "import pandas as pd\n",
    "import numpy as np\n",
    "import tensorflow as tf\n",
    "from tensorflow import keras\n",
    "from tensorflow.keras import layers"
   ]
  },
  {
   "cell_type": "code",
   "execution_count": 3,
   "id": "muslim-worry",
   "metadata": {},
   "outputs": [
    {
     "data": {
      "text/plain": [
       "'C:\\\\Users\\\\sunoj'"
      ]
     },
     "execution_count": 3,
     "metadata": {},
     "output_type": "execute_result"
    }
   ],
   "source": [
    "import os\n",
    "os.getcwd()"
   ]
  },
  {
   "cell_type": "code",
   "execution_count": 4,
   "id": "reflected-penalty",
   "metadata": {},
   "outputs": [],
   "source": [
    "df=pd.read_csv('curated_smiles.csv')"
   ]
  },
  {
   "cell_type": "code",
   "execution_count": 6,
   "id": "musical-uniform",
   "metadata": {},
   "outputs": [
    {
     "data": {
      "text/html": [
       "<div>\n",
       "<style scoped>\n",
       "    .dataframe tbody tr th:only-of-type {\n",
       "        vertical-align: middle;\n",
       "    }\n",
       "\n",
       "    .dataframe tbody tr th {\n",
       "        vertical-align: top;\n",
       "    }\n",
       "\n",
       "    .dataframe thead th {\n",
       "        text-align: right;\n",
       "    }\n",
       "</style>\n",
       "<table border=\"1\" class=\"dataframe\">\n",
       "  <thead>\n",
       "    <tr style=\"text-align: right;\">\n",
       "      <th></th>\n",
       "      <th>smiles</th>\n",
       "    </tr>\n",
       "  </thead>\n",
       "  <tbody>\n",
       "    <tr>\n",
       "      <th>0</th>\n",
       "      <td>CC1(OC(C(O1)CO)CO)C</td>\n",
       "    </tr>\n",
       "    <tr>\n",
       "      <th>1</th>\n",
       "      <td>CC1(OC(C(O1)C(C2=CC=CC=C2)(C3=CC=CC=C3)O)C(C4=...</td>\n",
       "    </tr>\n",
       "    <tr>\n",
       "      <th>2</th>\n",
       "      <td>CC1=CC23C(CC1)(C4(CC(C(C4(O2)CO)O3)O)C)C</td>\n",
       "    </tr>\n",
       "  </tbody>\n",
       "</table>\n",
       "</div>"
      ],
      "text/plain": [
       "                                              smiles\n",
       "0                                CC1(OC(C(O1)CO)CO)C\n",
       "1  CC1(OC(C(O1)C(C2=CC=CC=C2)(C3=CC=CC=C3)O)C(C4=...\n",
       "2           CC1=CC23C(CC1)(C4(CC(C(C4(O2)CO)O3)O)C)C"
      ]
     },
     "execution_count": 6,
     "metadata": {},
     "output_type": "execute_result"
    }
   ],
   "source": [
    "df.head(3)"
   ]
  },
  {
   "cell_type": "code",
   "execution_count": 7,
   "id": "variable-aerospace",
   "metadata": {},
   "outputs": [
    {
     "data": {
      "text/plain": [
       "(4127, 1)"
      ]
     },
     "execution_count": 7,
     "metadata": {},
     "output_type": "execute_result"
    }
   ],
   "source": [
    "df.shape"
   ]
  },
  {
   "cell_type": "code",
   "execution_count": 13,
   "id": "spiritual-sigma",
   "metadata": {},
   "outputs": [],
   "source": [
    "#remove the SMILES with length higher than 80\n",
    "condition=[len(i) <80 for i in df['smiles']]"
   ]
  },
  {
   "cell_type": "code",
   "execution_count": 14,
   "id": "explicit-welcome",
   "metadata": {},
   "outputs": [],
   "source": [
    "df_filterd=df[condition]"
   ]
  },
  {
   "cell_type": "code",
   "execution_count": 15,
   "id": "distant-penalty",
   "metadata": {},
   "outputs": [
    {
     "data": {
      "text/plain": [
       "(4111, 1)"
      ]
     },
     "execution_count": 15,
     "metadata": {},
     "output_type": "execute_result"
    }
   ],
   "source": [
    "df_filterd.shape #so (4127-4111)=16 molecules/SMILES are removed"
   ]
  },
  {
   "cell_type": "code",
   "execution_count": 16,
   "id": "southern-zoning",
   "metadata": {},
   "outputs": [],
   "source": [
    "def smiles2one_hot_chars(smi_list):\n",
    "    # get all the characters\n",
    "    char_lists = [list(smi) for smi in smi_list]\n",
    "    chars = list(set([char for sub_list in char_lists for char in sub_list]))\n",
    "    chars.append(' ')\n",
    "    return chars"
   ]
  },
  {
   "cell_type": "code",
   "execution_count": 25,
   "id": "documented-transmission",
   "metadata": {},
   "outputs": [],
   "source": [
    "vocab=smiles2one_hot_chars(df_filterd['smiles'])"
   ]
  },
  {
   "cell_type": "code",
   "execution_count": 26,
   "id": "bright-approval",
   "metadata": {},
   "outputs": [
    {
     "name": "stdout",
     "output_type": "stream",
     "text": [
      "['N', 'S', 'l', '6', '#', 'H', '4', ']', '3', '1', 'I', 'O', '[', 'r', '(', '=', 'i', ')', '9', '7', 'F', 'B', 'C', '8', '5', 'P', '2', ' ']\n"
     ]
    }
   ],
   "source": [
    "print(vocab)"
   ]
  },
  {
   "cell_type": "code",
   "execution_count": 38,
   "id": "several-sacrifice",
   "metadata": {},
   "outputs": [
    {
     "name": "stdout",
     "output_type": "stream",
     "text": [
      "28\n"
     ]
    }
   ],
   "source": [
    "vocab_size=len(vocab)\n",
    "print(vocab_size)"
   ]
  },
  {
   "cell_type": "code",
   "execution_count": 39,
   "id": "dietary-restaurant",
   "metadata": {},
   "outputs": [],
   "source": [
    "tokenizer=tf.keras.preprocessing.text.Tokenizer(vocab_size, filters='', char_level=True)"
   ]
  },
  {
   "cell_type": "code",
   "execution_count": 40,
   "id": "prospective-browser",
   "metadata": {},
   "outputs": [],
   "source": [
    "tokenizer.fit_on_texts(df_filterd['smiles'])"
   ]
  },
  {
   "cell_type": "code",
   "execution_count": 41,
   "id": "young-assist",
   "metadata": {},
   "outputs": [
    {
     "data": {
      "text/plain": [
       "keras_preprocessing.text.Tokenizer"
      ]
     },
     "execution_count": 41,
     "metadata": {},
     "output_type": "execute_result"
    }
   ],
   "source": [
    "type(tokenizer)"
   ]
  },
  {
   "cell_type": "code",
   "execution_count": null,
   "id": "diverse-stocks",
   "metadata": {},
   "outputs": [],
   "source": []
  },
  {
   "cell_type": "code",
   "execution_count": 43,
   "id": "liked-worker",
   "metadata": {},
   "outputs": [],
   "source": [
    "seqs=tokenizer.texts_to_sequences(df_filterd.smiles)"
   ]
  },
  {
   "cell_type": "code",
   "execution_count": 44,
   "id": "aggregate-granny",
   "metadata": {},
   "outputs": [
    {
     "name": "stdout",
     "output_type": "stream",
     "text": [
      "[1, 1, 5, 3, 7, 1, 3, 1, 3, 7, 5, 4, 1, 7, 4, 1, 7, 4, 1]\n"
     ]
    }
   ],
   "source": [
    "#check the sequences\n",
    "print(seqs[0])"
   ]
  },
  {
   "cell_type": "code",
   "execution_count": 48,
   "id": "sitting-musician",
   "metadata": {},
   "outputs": [
    {
     "name": "stdout",
     "output_type": "stream",
     "text": [
      "19\n",
      "28\n"
     ]
    }
   ],
   "source": [
    "print(len(seqs[0]))\n",
    "print(len(seqs[50])) #Note that all SMILES are of different length"
   ]
  },
  {
   "cell_type": "code",
   "execution_count": 49,
   "id": "pursuant-stick",
   "metadata": {},
   "outputs": [],
   "source": [
    "#so i need to padd them"
   ]
  },
  {
   "cell_type": "code",
   "execution_count": 50,
   "id": "productive-liberty",
   "metadata": {},
   "outputs": [],
   "source": [
    "padded_seqs=tf.keras.preprocessing.sequence.pad_sequences(seqs, padding='post')"
   ]
  },
  {
   "cell_type": "code",
   "execution_count": 51,
   "id": "popular-visitor",
   "metadata": {},
   "outputs": [
    {
     "data": {
      "text/plain": [
       "array([[1, 1, 5, ..., 0, 0, 0],\n",
       "       [1, 1, 5, ..., 0, 0, 0],\n",
       "       [1, 1, 5, ..., 0, 0, 0],\n",
       "       ...,\n",
       "       [1, 1, 5, ..., 0, 0, 0],\n",
       "       [1, 7, 1, ..., 0, 0, 0],\n",
       "       [1, 7, 1, ..., 0, 0, 0]])"
      ]
     },
     "execution_count": 51,
     "metadata": {},
     "output_type": "execute_result"
    }
   ],
   "source": [
    "#check it \n",
    "padded_seqs #so all SMILES are of same length now"
   ]
  },
  {
   "cell_type": "code",
   "execution_count": 87,
   "id": "tribal-vienna",
   "metadata": {},
   "outputs": [
    {
     "data": {
      "text/plain": [
       "79"
      ]
     },
     "execution_count": 87,
     "metadata": {},
     "output_type": "execute_result"
    }
   ],
   "source": [
    "len(padded_seqs[5])"
   ]
  },
  {
   "cell_type": "code",
   "execution_count": 52,
   "id": "thick-albuquerque",
   "metadata": {},
   "outputs": [],
   "source": [
    "#Let's calculate some feature using rdkit and predict it"
   ]
  },
  {
   "cell_type": "code",
   "execution_count": 56,
   "id": "moved-shakespeare",
   "metadata": {},
   "outputs": [],
   "source": [
    "from rdkit import Chem\n",
    "from rdkit.Chem import Descriptors"
   ]
  },
  {
   "cell_type": "code",
   "execution_count": 58,
   "id": "connected-synthesis",
   "metadata": {},
   "outputs": [],
   "source": [
    "mols=[Chem.MolFromSmiles(i) for i in df_filterd['smiles']]"
   ]
  },
  {
   "cell_type": "code",
   "execution_count": 76,
   "id": "banner-budapest",
   "metadata": {},
   "outputs": [],
   "source": [
    "tpsa=[Descriptors.TPSA(i) for i in mols]"
   ]
  },
  {
   "cell_type": "code",
   "execution_count": 80,
   "id": "about-ferry",
   "metadata": {
    "collapsed": true
   },
   "outputs": [
    {
     "name": "stderr",
     "output_type": "stream",
     "text": [
      "C:\\Users\\sunoj\\anaconda3\\envs\\my-rdkit-env\\lib\\site-packages\\ipykernel_launcher.py:1: SettingWithCopyWarning: \n",
      "A value is trying to be set on a copy of a slice from a DataFrame.\n",
      "Try using .loc[row_indexer,col_indexer] = value instead\n",
      "\n",
      "See the caveats in the documentation: https://pandas.pydata.org/pandas-docs/stable/user_guide/indexing.html#returning-a-view-versus-a-copy\n",
      "  \"\"\"Entry point for launching an IPython kernel.\n"
     ]
    }
   ],
   "source": [
    "df_filterd['tpsa']=tpsa"
   ]
  },
  {
   "cell_type": "code",
   "execution_count": 83,
   "id": "framed-nation",
   "metadata": {},
   "outputs": [],
   "source": [
    "#okay lets not build any model\n",
    "#just only embedding layer"
   ]
  },
  {
   "cell_type": "code",
   "execution_count": null,
   "id": "wooden-wrestling",
   "metadata": {},
   "outputs": [],
   "source": []
  },
  {
   "cell_type": "code",
   "execution_count": 88,
   "id": "plain-jacksonville",
   "metadata": {},
   "outputs": [],
   "source": [
    "embedding_layer=layers.Embedding(28, 5, input_length=79)"
   ]
  },
  {
   "cell_type": "code",
   "execution_count": 115,
   "id": "alive-iraqi",
   "metadata": {},
   "outputs": [],
   "source": [
    "result=embedding_layer(padded_seqs)"
   ]
  },
  {
   "cell_type": "code",
   "execution_count": 116,
   "id": "imported-disposal",
   "metadata": {},
   "outputs": [
    {
     "data": {
      "text/plain": [
       "TensorShape([4111, 79, 5])"
      ]
     },
     "execution_count": 116,
     "metadata": {},
     "output_type": "execute_result"
    }
   ],
   "source": [
    "result.shape"
   ]
  },
  {
   "cell_type": "code",
   "execution_count": 143,
   "id": "humanitarian-jaguar",
   "metadata": {},
   "outputs": [],
   "source": [
    "#uncomment this to check the embedded smiles\n",
    "#result.numpy() "
   ]
  },
  {
   "cell_type": "code",
   "execution_count": 95,
   "id": "british-bosnia",
   "metadata": {},
   "outputs": [],
   "source": [
    "#okay build a model"
   ]
  },
  {
   "cell_type": "code",
   "execution_count": 97,
   "id": "literary-elements",
   "metadata": {},
   "outputs": [
    {
     "data": {
      "text/plain": [
       "array([[1, 1, 5, ..., 0, 0, 0],\n",
       "       [1, 1, 5, ..., 0, 0, 0],\n",
       "       [1, 1, 5, ..., 0, 0, 0],\n",
       "       ...,\n",
       "       [1, 1, 5, ..., 0, 0, 0],\n",
       "       [1, 7, 1, ..., 0, 0, 0],\n",
       "       [1, 7, 1, ..., 0, 0, 0]])"
      ]
     },
     "execution_count": 97,
     "metadata": {},
     "output_type": "execute_result"
    }
   ],
   "source": [
    "padded_seqs"
   ]
  },
  {
   "cell_type": "code",
   "execution_count": 137,
   "id": "according-symphony",
   "metadata": {},
   "outputs": [
    {
     "name": "stdout",
     "output_type": "stream",
     "text": [
      "Model: \"sequential_5\"\n",
      "_________________________________________________________________\n",
      "Layer (type)                 Output Shape              Param #   \n",
      "=================================================================\n",
      "embedding_6 (Embedding)      (None, 79, 5)             140       \n",
      "_________________________________________________________________\n",
      "flatten_3 (Flatten)          (None, 395)               0         \n",
      "_________________________________________________________________\n",
      "dense_15 (Dense)             (None, 256)               101376    \n",
      "_________________________________________________________________\n",
      "dense_16 (Dense)             (None, 64)                16448     \n",
      "_________________________________________________________________\n",
      "dense_17 (Dense)             (None, 1)                 65        \n",
      "=================================================================\n",
      "Total params: 118,029\n",
      "Trainable params: 118,029\n",
      "Non-trainable params: 0\n",
      "_________________________________________________________________\n"
     ]
    }
   ],
   "source": [
    "model=keras.Sequential()\n",
    "model.add(layers.Embedding(28, 5, input_length=79))\n",
    "#the embedding layer will give a tensor of shape (79, 5); I need to flatten it\n",
    "model.add(layers.Flatten())\n",
    "model.add(tf.keras.layers.Dense(256, activation='relu'))\n",
    "model.add(tf.keras.layers.Dense(64, activation='tanh'))\n",
    "model.add(tf.keras.layers.Dense(1, activation='sigmoid'))\n",
    "model.summary()"
   ]
  },
  {
   "cell_type": "code",
   "execution_count": 138,
   "id": "strange-construction",
   "metadata": {},
   "outputs": [
    {
     "name": "stdout",
     "output_type": "stream",
     "text": [
      "Epoch 1/5\n",
      "129/129 [==============================] - 1s 1ms/step - loss: 2413.9907 - mse: 2413.9907\n",
      "Epoch 2/5\n",
      "129/129 [==============================] - 0s 1ms/step - loss: 2411.9751 - mse: 2411.9751\n",
      "Epoch 3/5\n",
      "129/129 [==============================] - 0s 1ms/step - loss: 2411.9744 - mse: 2411.9744\n",
      "Epoch 4/5\n",
      "129/129 [==============================] - 0s 1ms/step - loss: 2411.9744 - mse: 2411.9744\n",
      "Epoch 5/5\n",
      "129/129 [==============================] - 0s 1ms/step - loss: 2411.9736 - mse: 2411.9736\n"
     ]
    }
   ],
   "source": [
    "model.compile('adam', loss='mean_squared_error', metrics=['mse'])\n",
    "result=model.fit(padded_seqs, df_filterd['tpsa'], epochs=5)"
   ]
  },
  {
   "cell_type": "code",
   "execution_count": 139,
   "id": "worthy-banner",
   "metadata": {},
   "outputs": [
    {
     "data": {
      "text/plain": [
       "49.111858038563355"
      ]
     },
     "execution_count": 139,
     "metadata": {},
     "output_type": "execute_result"
    }
   ],
   "source": [
    "from math import sqrt\n",
    "sqrt(2411.9746)"
   ]
  },
  {
   "cell_type": "code",
   "execution_count": 140,
   "id": "massive-saturday",
   "metadata": {
    "scrolled": true
   },
   "outputs": [
    {
     "data": {
      "image/png": "[encoded data removed]",
      "text/plain": [
       "<Figure size 432x288 with 1 Axes>"
      ]
     },
     "metadata": {
      "needs_background": "light"
     },
     "output_type": "display_data"
    }
   ],
   "source": [
    "import matplotlib.pyplot as plt\n",
    "plt.plot(result.history['loss'], label='training')\n",
    "#plt.plot(result.history['val_loss'], label='validation')\n",
    "plt.legend()\n",
    "plt.xlabel('Epoch')\n",
    "plt.ylabel('Loss')\n",
    "plt.show()"
   ]
  },
  {
   "cell_type": "code",
   "execution_count": 142,
   "id": "purple-affairs",
   "metadata": {},
   "outputs": [
    {
     "data": {
      "text/plain": [
       "array([[0.99998856],\n",
       "       [0.9999894 ],\n",
       "       [0.9999895 ],\n",
       "       [0.9999893 ],\n",
       "       [0.99998873]], dtype=float32)"
      ]
     },
     "execution_count": 142,
     "metadata": {},
     "output_type": "execute_result"
    }
   ],
   "source": [
    "model.predict(padded_seqs[0:5])"
   ]
  },
  {
   "cell_type": "code",
   "execution_count": null,
   "id": "valid-republican",
   "metadata": {},
   "outputs": [],
   "source": []
  }
 ],
 "metadata": {
  "kernelspec": {
   "display_name": "Python 3",
   "language": "python",
   "name": "python3"
  },
  "language_info": {
   "codemirror_mode": {
    "name": "ipython",
    "version": 3
   },
   "file_extension": ".py",
   "mimetype": "text/x-python",
   "name": "python",
   "nbconvert_exporter": "python",
   "pygments_lexer": "ipython3",
   "version": "3.6.12"
  }
 },
 "nbformat": 4,
 "nbformat_minor": 5
}
