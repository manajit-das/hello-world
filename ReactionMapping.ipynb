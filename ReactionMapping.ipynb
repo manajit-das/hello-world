{
 "cells": [
  {
   "cell_type": "code",
   "execution_count": 1,
   "id": "59508f89",
   "metadata": {},
   "outputs": [],
   "source": [
    "#Witting mechanism generation 23112024@0932"
   ]
  },
  {
   "cell_type": "code",
   "execution_count": 2,
   "id": "6aae3766",
   "metadata": {},
   "outputs": [],
   "source": [
    "import pandas as pd\n",
    "import numpy as np\n",
    "from rdkit import Chem\n",
    "from rdkit.Chem import rdChemReactions as Reactions\n",
    "from rdkit.Chem.Draw import IPythonConsole\n",
    "from rdkit import RDLogger\n",
    "RDLogger.DisableLog('rdApp.*')\n",
    "import matplotlib.pyplot as plt\n",
    "from rdkit.Chem import rdDepictor\n",
    "rdDepictor.SetPreferCoordGen(True)\n",
    "import os\n",
    "os.getcwd()\n",
    "\n",
    "import pandas as pd\n",
    "from rdkit import Chem\n",
    "from rdkit.Chem import AllChem, Draw\n",
    "from rdkit.Chem.Draw import IPythonConsole \n",
    "from rdkit.Chem.Draw.MolDrawing import MolDrawing, DrawingOptions \n",
    "import re\n",
    "from collections import Counter\n",
    "from rdkit.Chem.Draw import rdMolDraw2D\n",
    "from rdkit.Chem import rdChemReactions\n",
    "from rdkit.Chem import rdDepictor\n",
    "rdDepictor.SetPreferCoordGen(True)\n",
    "from rdchiral.template_extractor import extract_from_reaction"
   ]
  },
  {
   "cell_type": "code",
   "execution_count": 3,
   "id": "0f33c67f",
   "metadata": {},
   "outputs": [],
   "source": [
    "def remove_number(smiles):\n",
    "    mol = Chem.MolFromSmiles(smiles)\n",
    "    [a.SetAtomMapNum(0) for a in mol.GetAtoms()]\n",
    "    return Chem.MolToSmiles(mol)\n",
    "\n",
    "#this code is from:\n",
    "def make_rxns(source_rxn, reactants):\n",
    "    product_sets = source_rxn.RunReactants(reactants)\n",
    "    new_rxns = []\n",
    "    for pset in product_sets:\n",
    "        new_rxn = AllChem.ChemicalReaction()\n",
    "        for react in reactants:\n",
    "            react = Chem.Mol(react)\n",
    "            for a in react.GetAtoms():\n",
    "                a.SetIntProp('molAtomMapNumber', a.GetIdx())\n",
    "            new_rxn.AddReactantTemplate(react)\n",
    "        for prod in pset:\n",
    "            for a in prod.GetAtoms():\n",
    "                a.SetIntProp('molAtomMapNumber', int(a.GetProp('react_atom_idx')))\n",
    "            new_rxn.AddProductTemplate(prod)\n",
    "        new_rxns.append(new_rxn)\n",
    "    return new_rxns\n",
    "\n",
    "def moveAtomMapsToNotes(m):\n",
    "    for at in m.GetAtoms():\n",
    "        if at.GetAtomMapNum():\n",
    "            at.SetProp(\"atomNote\",str(at.GetAtomMapNum()))\n",
    "            #at.SetAtomMapNum(0)\n",
    "\n",
    "def RxnTemplateExtraction(reaction):\n",
    "    '''given a reaction smiles, it returns\n",
    "    a reaction template using rdchiral tool\n",
    "    input: A.B>C.D>E.F'''\n",
    "    react_dict = {}\n",
    "    react_splitted = reaction.split('>')\n",
    "    react_dict['_id'] = 1\n",
    "    react_dict['reactants'] = react_splitted[2]\n",
    "    react_dict['products'] = react_splitted[0]\n",
    "    rxn_template = extract_from_reaction(react_dict)\n",
    "    return rxn_template['reaction_smarts']"
   ]
  },
  {
   "cell_type": "code",
   "execution_count": 4,
   "id": "87e2bd05",
   "metadata": {},
   "outputs": [],
   "source": [
    "def next_rxn(input_rxn_smiles):\n",
    "    rxn_splits = input_rxn_smiles.split('>')\n",
    "    product_reagents = '.'.join([rxn_splits[1], rxn_splits[2]])\n",
    "    return product_reagents\n",
    "\n",
    "def RxnToTemplates(rxn_dict):\n",
    "    '''input: atom mapped reactions as dictionary, key:value pair'''\n",
    "    templates_ = []\n",
    "    for i in rxn_dict:\n",
    "        templates_.append(RxnTemplateExtraction(rxn_dict[i]))\n",
    "    templates = []\n",
    "    for i in templates_:\n",
    "        parenthesis_id = i.index('>')\n",
    "        templates.append('(' + i[:parenthesis_id] + ')' + i[parenthesis_id:])\n",
    "    return templates\n",
    "\n",
    "from rdkit import Chem\n",
    "from collections import Counter\n",
    "\n",
    "def increase_mapping_numbers(reaction):\n",
    "    # Define a regular expression pattern to match the atom mapping numbers\n",
    "    pattern = r'(?<=:)(\\d+)'\n",
    "\n",
    "    # Define a function to increase each matched number by one\n",
    "    def increase(match):\n",
    "        return str(int(match.group(0)) + 1)\n",
    "\n",
    "    # Use re.sub() to replace the matched numbers with the increased values\n",
    "    modified_reaction = re.sub(pattern, increase, reaction)\n",
    "\n",
    "    return modified_reaction\n",
    "\n",
    "def remove_ids(smile):\n",
    "    mol = Chem.MolFromSmiles(smile)\n",
    "    [a.SetAtomMapNum(0) for a in mol.GetAtoms()]\n",
    "    return Chem.MolToSmiles(mol)\n",
    "\n",
    "def remove_leading_dot(s):\n",
    "    return s.lstrip('.') if s.startswith('.') else s\n",
    "\n",
    "def rxn_format_change(rxn):\n",
    "    reactant, reagent, product = rxn.split('>')\n",
    "    reagent = remove_leading_dot(reagent) #sometime it contain extra '.' at the begining, so I am remvoing it\n",
    "    reagent_wo_ids = remove_ids(reagent)\n",
    "    reactant_reagent = reactant if not reagent_wo_ids else f\"{reactant}.{reagent_wo_ids}\"\n",
    "    new_rxn = '>>'.join((reactant_reagent, product))\n",
    "    return new_rxn\n",
    "\n",
    "def mol_can(smi):\n",
    "    mol = Chem.MolFromSmiles(smi)\n",
    "    [a.SetAtomMapNum(0) for a in mol.GetAtoms()]\n",
    "    return Chem.MolToSmiles(mol)\n",
    "\n",
    "import pandas as pd\n",
    "\n",
    "\n",
    "def remove_ids(smile):\n",
    "    mol = Chem.MolFromSmiles(smile)\n",
    "    [a.SetAtomMapNum(0) for a in mol.GetAtoms()]\n",
    "    return Chem.MolToSmiles(mol)\n",
    "\n",
    "def remove_leading_dot(s):\n",
    "    return s.lstrip('.') if s.startswith('.') else s\n",
    "\n",
    "def rxn_format_change(rxn):\n",
    "    try:\n",
    "        rxn = increase_mapping_numbers(rxn)\n",
    "        reactant, reagent, product = rxn.split('>')\n",
    "        reagent = remove_leading_dot(reagent) #sometime it contain extra '.' at the begining, so I am remvoing it\n",
    "        reagent_wo_ids = remove_ids(reagent)\n",
    "        reactant_reagent = reactant if not reagent_wo_ids else f\"{reactant}.{reagent_wo_ids}\"\n",
    "        new_rxn = '>>'.join((reactant_reagent, product))\n",
    "    except:\n",
    "        new_rxn = rxn\n",
    "    return new_rxn\n",
    "\n",
    "def rxn_change(all_mech):\n",
    "    x = []\n",
    "    for i in all_mech:\n",
    "        x.append(rxn_format_change(i))\n",
    "    return x"
   ]
  },
  {
   "cell_type": "code",
   "execution_count": 5,
   "id": "3a3bf0fc",
   "metadata": {},
   "outputs": [],
   "source": [
    "from itertools import permutations\n",
    "from rdkit import Chem\n",
    "from collections import Counter\n",
    "\n",
    "def match_pdts(true_pdts, gen_pdts):\n",
    "    # Split each input string into separate SMILES components\n",
    "    true_parts = true_pdts.split('.')\n",
    "    gen_parts = gen_pdts.split('.')\n",
    "    # Canonicalize each component of true_pdts\n",
    "    true_canonicals = set()\n",
    "    for smi in true_parts:\n",
    "        mol = Chem.MolFromSmiles(smi)\n",
    "        [a.SetAtomMapNum(0) for a in mol.GetAtoms()]\n",
    "        if mol is not None:\n",
    "            # Convert to canonical SMILES without stereochemistry\n",
    "            true_canonicals.add(Chem.MolToSmiles(mol, isomericSmiles=False))\n",
    "    \n",
    "    # Canonicalize and compare each component of gen_pdts\n",
    "    for smi in gen_parts:\n",
    "        mol = Chem.MolFromSmiles(smi)\n",
    "        if mol is not None:\n",
    "            [a.SetAtomMapNum(0) for a in mol.GetAtoms()]\n",
    "            gen_canonical = Chem.MolToSmiles(mol, isomericSmiles=False)\n",
    "            if gen_canonical in true_canonicals:\n",
    "                return True\n",
    "    \n",
    "    return False\n",
    "\n",
    "def find_all_reac_reag_comb(template_smarts_str, str_of_smiles):\n",
    "    #print('these are getting used:', template_smarts_str, str_of_smiles)\n",
    "    list_of_smiles = str_of_smiles.split('.')\n",
    "    #print('all smiels:', list_of_smiles)\n",
    "    reactants_smarts = template_smarts_str.split('>>')[0][1:-1]\n",
    "    reactants_smarts = reactants_smarts.split('.')\n",
    "    #print('reactants_smarts:', reactants_smarts)\n",
    "    # Dictionary to hold matches for each SMARTS pattern\n",
    "    smarts_to_matches = {smarts: [] for smarts in reactants_smarts}\n",
    "    \n",
    "    for smiles in list_of_smiles:\n",
    "        mol = Chem.MolFromSmiles(smiles)\n",
    "        for smarts in reactants_smarts:\n",
    "            smarts_mol = Chem.MolFromSmarts(smarts)\n",
    "            if mol.HasSubstructMatch(smarts_mol):\n",
    "                smarts_to_matches[smarts].append(smiles)\n",
    "    \n",
    "    # Generate all permutations of matches for each SMARTS pattern\n",
    "    reactant_combinations = []\n",
    "    for reactant_permutation in permutations(list_of_smiles, len(reactants_smarts)):\n",
    "        match = True\n",
    "        for reactant, smarts in zip(reactant_permutation, reactants_smarts):\n",
    "            mol = Chem.MolFromSmiles(reactant)\n",
    "            smarts_mol = Chem.MolFromSmarts(smarts)\n",
    "            if not mol.HasSubstructMatch(smarts_mol):\n",
    "                match = False\n",
    "                break\n",
    "        if match:\n",
    "            reactant_combinations.append(list(reactant_permutation))\n",
    "    \n",
    "    \n",
    "    # Remove duplicate combinations\n",
    "    unique_combinations = []\n",
    "    for combo in reactant_combinations:\n",
    "        if combo not in unique_combinations:\n",
    "            unique_combinations.append(combo)\n",
    "    \n",
    "    # Generate reagents for each reactant combination, maintaining counts\n",
    "    results = []\n",
    "    original_counts = Counter(list_of_smiles)  # Keep track of the original counts\n",
    "    for reactants in unique_combinations:\n",
    "        reactant_counts = Counter(reactants)\n",
    "        reagents_counts = original_counts - reactant_counts  # Subtract reactant counts\n",
    "        reagents = list(reagents_counts.elements())  # Reconstruct the reagents list\n",
    "        results.append((reactants, reagents))\n",
    "\n",
    "    \n",
    "    return results\n",
    "\n",
    "def transform_func(template_smarts_str, str_of_smiles):\n",
    "    #reactants_smiles_list, reagents_smiles_list = reactant_reagent_finder(template_smarts_str, str_of_smiles)\n",
    "    #print('\\ninput to find_all_reac_reag_comb:', template_smarts_str,str_of_smiles)\n",
    "    reactant_reagents = find_all_reac_reag_comb(template_smarts_str,str_of_smiles)\n",
    "    if not reactant_reagents:\n",
    "        print(f\"No valid reactant-reagent combinations found for: {template_smarts_str} with {str_of_smiles}\")\n",
    "        return []  # Return an empty list or handle appropriately\n",
    "    \n",
    "    #print('\\noutput reactant_reagents', reactant_reagents)\n",
    "    reactants_smiles_list = reactant_reagents[0][0]\n",
    "    reagents_smiles_list = reactant_reagents[0][1]\n",
    "    \n",
    "    #print(reactants_smiles_list, reagents_smiles_list)\n",
    "    reagent_smiles = '.'.join(reagents_smiles_list)\n",
    "    reactants_mols_list = [Chem.MolFromSmiles(smiles) for smiles in reactants_smiles_list]\n",
    "    template = AllChem.ReactionFromSmarts(template_smarts_str)\n",
    "    \n",
    "    #-------------------combine the reactants into a single mol object--------------\n",
    "    rmol = None\n",
    "    for mol in reactants_mols_list:\n",
    "        if rmol is None:\n",
    "            rmol = mol  # If rmol is None, set it to the first molecule\n",
    "        else:\n",
    "            rmol = Chem.CombineMols(rmol, mol)\n",
    "    #----------------------mapping the reactants and products-------------------------\n",
    "    atom_mapped_rxns = []\n",
    "    for r in make_rxns(template, [rmol]):\n",
    "        smi = AllChem.ReactionToSmiles(r)\n",
    "        smi =  re.sub(r'^\\((.*)\\)>',r'\\1>',smi) #this is required\n",
    "        atom_mapped_rxns.append(smi)\n",
    "        \n",
    "    #print('atom mapped rxns:', atom_mapped_rxns)\n",
    "    #--------------------------adding the reagents------------------------------------\n",
    "    mapped_rxns = []\n",
    "    for i in atom_mapped_rxns:\n",
    "        mapped_rxns.append(i.replace(\">>\", f\">{reagent_smiles}>\"))\n",
    "    mapped_rxns = list(set(mapped_rxns))\n",
    "    #print('mapped_rxns:', mapped_rxns)\n",
    "    return mapped_rxns\n",
    "\n",
    "\n",
    "def dfs_with_processing1(start, transform_func, validate_func, target_output, param_list):\n",
    "    visited = set()  # To track visited states and avoid cycles\n",
    "\n",
    "    def process_output(output):\n",
    "        \"\"\"Custom processing logic on the outputs if required.\"\"\"\n",
    "        try:\n",
    "            output_reagent = output.split('>')[1]\n",
    "            output_pdt = output.split('>')[2]\n",
    "            if output_reagent:\n",
    "                processed = '.'.join([output_pdt, output_reagent])\n",
    "            else:\n",
    "                processed = output_pdt\n",
    "            return processed\n",
    "        \n",
    "        except IndexError:\n",
    "            return None  # If processing fails, return None to signal an invalid path\n",
    "\n",
    "    def is_valid_molecule(smiles):\n",
    "        \"\"\"Check if a SMILES string corresponds to a valid molecule.\"\"\"\n",
    "        try:\n",
    "            mol = Chem.MolFromSmiles(smiles)\n",
    "            return mol is not None\n",
    "        except:\n",
    "            return False\n",
    "\n",
    "    def dfs(current_input, path, param_index):\n",
    "        # Stop if the current input matches the target output\n",
    "        if validate_func(current_input, target_output):\n",
    "            print('Got it, matched!')\n",
    "            return path\n",
    "\n",
    "        if (current_input, param_index) in visited:\n",
    "            return None\n",
    "        visited.add((current_input, param_index))\n",
    "\n",
    "        # Check if we've exhausted all transformation rules\n",
    "        if param_index >= len(param_list):\n",
    "            return None\n",
    "\n",
    "        # Apply the current transformation rule\n",
    "        current_param = param_list[param_index]\n",
    "        raw_outputs = transform_func(current_param, current_input)  # Raw outputs from transform_func  \n",
    "        processed_outputs = []\n",
    "\n",
    "        for raw in raw_outputs:\n",
    "            # Process the raw output\n",
    "            processed = process_output(raw)\n",
    "            if processed is None:\n",
    "                continue  # Skip invalid processing results\n",
    "\n",
    "            # Validate individual SMILES in the processed output\n",
    "            components = processed.split('.')\n",
    "            if all(is_valid_molecule(comp) for comp in components):\n",
    "                processed_outputs.append((raw, processed))\n",
    "        \n",
    "        for raw_output, processed_output in processed_outputs:\n",
    "            # Recursive DFS with the next SMARTS pattern in param_list\n",
    "            result = dfs(processed_output, path + [(current_param, raw_output, processed_output)], param_index + 1)\n",
    "            if result is not None:\n",
    "                return result\n",
    "\n",
    "        return None  # No valid path found\n",
    "\n",
    "    # Start with the first SMARTS pattern\n",
    "    return dfs(start, [], 0)\n"
   ]
  },
  {
   "cell_type": "code",
   "execution_count": 6,
   "id": "d5efa3ad",
   "metadata": {},
   "outputs": [
    {
     "name": "stdout",
     "output_type": "stream",
     "text": [
      "Reactants: ['O=C1CNC(N1)=O', '[OH-]'], Reagents: ['O=Cc2c3nc(NC4C(CCC4=O)=O)cc(NC5CC5)n3nc2']\n",
      "Reactants: ['O=Cc2c3nc(NC4C(CCC4=O)=O)cc(NC5CC5)n3nc2', '[OH-]'], Reagents: ['O=C1CNC(N1)=O']\n"
     ]
    }
   ],
   "source": [
    "template_smarts_str = '([CH2:1]-[C;H0;D3;+0:2](=[O:3])-[*:5].[OH-:4])>>[CH-:1]-[C;H0;D3;+0:2](=[O:3])-[*:5].[OH2;+0:4]'\n",
    "str_of_smiles = 'O=C1CNC(N1)=O.O=Cc2c3nc(NC4C(CCC4=O)=O)cc(NC5CC5)n3nc2.[OH-]'\n",
    "\n",
    "results = find_all_reac_reag_comb(template_smarts_str, str_of_smiles)\n",
    "for reactants, reagents in results:\n",
    "    print(f\"Reactants: {reactants}, Reagents: {reagents}\")\n"
   ]
  },
  {
   "cell_type": "code",
   "execution_count": 7,
   "id": "91009777",
   "metadata": {},
   "outputs": [],
   "source": [
    "param_list = ['([CH2:1]-[C;H0;D3;+0:2](=[O:3])-[*:5].[OH-:4])>>[CH-:1]-[C;H0;D3;+0:2](=[O:3])-[*:5].[OH2;+0:4]',\n",
    "              '([CH-:1]-[C;H0;D3;+0:2]=[O:3].[O:4]=[C;H1;D2;+0:5][*;H0;+0:6])>>[O;-1:4]-[C;H1;D3;+0:5](-[*;H0;+0:6])-[CH;+0:1]-[C;H0;D3;+0:2]=[O:3]']\n"
   ]
  },
  {
   "cell_type": "code",
   "execution_count": null,
   "id": "b1e88f04",
   "metadata": {},
   "outputs": [],
   "source": []
  },
  {
   "cell_type": "code",
   "execution_count": 8,
   "id": "0ef9db5c",
   "metadata": {},
   "outputs": [],
   "source": [
    "start = 'O=C1CC(CC1(C)C)(C)C.O=CC2=CC(C(C)(C)C)=C(C=C2)C=O.[OH-]'\n",
    "target_output = 'O=C1C(C(C)(CC1)C)C([O-])C2=CC=C(C=C2)C=O'\n",
    "dfs_with_processing1(start, transform_func, match_pdts, target_output, param_list)"
   ]
  },
  {
   "cell_type": "code",
   "execution_count": 9,
   "id": "e8247a14",
   "metadata": {},
   "outputs": [
    {
     "name": "stdout",
     "output_type": "stream",
     "text": [
      "Got it, matched!\n"
     ]
    },
    {
     "data": {
      "text/plain": [
       "[('([CH2:1]-[C;H0;D3;+0:2](=[O:3])-[*:5].[OH-:4])>>[CH-:1]-[C;H0;D3;+0:2](=[O:3])-[*:5].[OH2;+0:4]',\n",
       "  '[O:0]=[C:1]1[CH2:2][C:3]([CH3:8])([CH3:9])[CH2:4][C:5]1([CH3:6])[CH3:7].[OH-:10]>O=CC2=CC(C(C)(C)C)=C(C=C2)C=O>[O:0]=[C:1]1[CH-:2][C:3]([CH3:8])([CH3:9])[CH2:4][C:5]1([CH3:6])[CH3:7].[OH2:10]',\n",
       "  '[O:0]=[C:1]1[CH-:2][C:3]([CH3:8])([CH3:9])[CH2:4][C:5]1([CH3:6])[CH3:7].[OH2:10].O=CC2=CC(C(C)(C)C)=C(C=C2)C=O'),\n",
       " ('([CH-:1]-[C;H0;D3;+0:2]=[O:3].[O:4]=[C;H1;D2;+0:5][*;H0;+0:6])>>[O;-1:4]-[C;H1;D3;+0:5](-[*;H0;+0:6])-[CH;+0:1]-[C;H0;D3;+0:2]=[O:3]',\n",
       "  '[O:0]=[C:1]1[CH-:2][C:3]([CH3:4])([CH3:5])[CH2:6][C:7]1([CH3:8])[CH3:9].[O:10]=[CH:11][c:12]1[cH:13][c:14]([C:15]([CH3:16])([CH3:17])[CH3:18])[c:19]([CH:22]=[O:23])[cH:20][cH:21]1>[OH2:10]>[O:0]=[C:1]1[CH:2]([CH:11]([O-:10])[c:12]2[cH:13][c:14]([C:15]([CH3:16])([CH3:17])[CH3:18])[c:19]([CH:22]=[O:23])[cH:20][cH:21]2)[C:3]([CH3:4])([CH3:5])[CH2:6][C:7]1([CH3:8])[CH3:9]',\n",
       "  '[O:0]=[C:1]1[CH:2]([CH:11]([O-:10])[c:12]2[cH:13][c:14]([C:15]([CH3:16])([CH3:17])[CH3:18])[c:19]([CH:22]=[O:23])[cH:20][cH:21]2)[C:3]([CH3:4])([CH3:5])[CH2:6][C:7]1([CH3:8])[CH3:9].[OH2:10]')]"
      ]
     },
     "execution_count": 9,
     "metadata": {},
     "output_type": "execute_result"
    }
   ],
   "source": [
    "start = 'O=C1CC(CC1(C)C)(C)C.O=CC2=CC(C(C)(C)C)=C(C=C2)C=O.[OH-]'\n",
    "target_output = 'O=C1C(C(CC1(C)C)(C)C)C([O-])C2=CC(C(C)(C)C)=C(C=C2)C=O'\n",
    "dfs_with_processing1(start, transform_func, match_pdts, target_output, param_list)"
   ]
  },
  {
   "cell_type": "code",
   "execution_count": 10,
   "id": "5ba1e5be",
   "metadata": {},
   "outputs": [
    {
     "name": "stdout",
     "output_type": "stream",
     "text": [
      "Got it, matched!\n"
     ]
    },
    {
     "data": {
      "text/plain": [
       "[('([CH2:1]-[C;H0;D3;+0:2](=[O:3])-[*:5].[OH-:4])>>[CH-:1]-[C;H0;D3;+0:2](=[O:3])-[*:5].[OH2;+0:4]',\n",
       "  '[O:0]=[C:1]1[CH2:2][C:3]([C:8]([CH2:9][CH3:10])=[O:11])([CH3:12])[CH2:4][C:5]1([CH3:6])[CH3:7].[OH-:13]>O=CC2=CC(C(C)(C)C)=C(C=C2)C=O>[O:0]=[C:1]1[CH-:2][C:3]([C:8]([CH2:9][CH3:10])=[O:11])([CH3:12])[CH2:4][C:5]1([CH3:6])[CH3:7].[OH2:13]',\n",
       "  '[O:0]=[C:1]1[CH-:2][C:3]([C:8]([CH2:9][CH3:10])=[O:11])([CH3:12])[CH2:4][C:5]1([CH3:6])[CH3:7].[OH2:13].O=CC2=CC(C(C)(C)C)=C(C=C2)C=O'),\n",
       " ('([CH-:1]-[C;H0;D3;+0:2]=[O:3].[O:4]=[C;H1;D2;+0:5][*;H0;+0:6])>>[O;-1:4]-[C;H1;D3;+0:5](-[*;H0;+0:6])-[CH;+0:1]-[C;H0;D3;+0:2]=[O:3]',\n",
       "  '[O:0]=[C:1]1[CH-:2][C:3]([C:4]([CH2:5][CH3:6])=[O:7])([CH3:8])[CH2:9][C:10]1([CH3:11])[CH3:12].[O:13]=[CH:14][c:15]1[cH:16][c:17]([C:18]([CH3:19])([CH3:20])[CH3:21])[c:22]([CH:25]=[O:26])[cH:23][cH:24]1>[OH2:13]>[O:0]=[C:1]1[CH:2]([CH:25]([c:22]2[c:17]([C:18]([CH3:19])([CH3:20])[CH3:21])[cH:16][c:15]([CH:14]=[O:13])[cH:24][cH:23]2)[O-:26])[C:3]([C:4]([CH2:5][CH3:6])=[O:7])([CH3:8])[CH2:9][C:10]1([CH3:11])[CH3:12]',\n",
       "  '[O:0]=[C:1]1[CH:2]([CH:25]([c:22]2[c:17]([C:18]([CH3:19])([CH3:20])[CH3:21])[cH:16][c:15]([CH:14]=[O:13])[cH:24][cH:23]2)[O-:26])[C:3]([C:4]([CH2:5][CH3:6])=[O:7])([CH3:8])[CH2:9][C:10]1([CH3:11])[CH3:12].[OH2:13]')]"
      ]
     },
     "execution_count": 10,
     "metadata": {},
     "output_type": "execute_result"
    }
   ],
   "source": [
    "start = 'O=C1CC(CC1(C)C)(C(CC)=O)C.O=CC2=CC(C(C)(C)C)=C(C=C2)C=O.[OH-]'\n",
    "target_output = 'O=C1C(C(CC1(C)C)(C)C(CC)=O)C(C(C=CC(C=O)=C2)=C2C(C)(C)C)[O-]'\n",
    "dfs_with_processing1(start, transform_func, match_pdts, target_output, param_list)"
   ]
  },
  {
   "cell_type": "code",
   "execution_count": 11,
   "id": "36d22c34",
   "metadata": {},
   "outputs": [
    {
     "name": "stdout",
     "output_type": "stream",
     "text": [
      "Got it, matched!\n"
     ]
    }
   ],
   "source": [
    "param_list = ['([CH2:1]-[C;H0;D3;+0:2](=[O:3])-[*:5].[OH-:4])>>[CH-:1]-[C;H0;D3;+0:2](=[O:3])-[*:5].[OH2;+0:4]',\n",
    "              '([CH-:1]-[C;H0;D3;+0:2]=[O:3].[O:4]=[C;H1;D2;+0:5][*;H0;+0:6])>>[O;-1:4]-[C;H1;D3;+0:5](-[*;H0;+0:6])-[CH;+0:1]-[C;H0;D3;+0:2]=[O:3]',\n",
    "             '([O-:1].[OH2:2])>>[OH;+0:1].[OH-:2]',\n",
    "             '([O:1]=[C;H0:2]-[C;H1:3])>>[O:1]=[C;H0:2]-[C;H0;-1:3]']\n",
    "\n",
    "\n",
    "start = 'O=Cc1c(C)cc(C=O)cc1.CCC(C2CCC(C2)=O)=O.[OH-]'\n",
    "target_output = 'CCC(C1CCC([C-]1C(O)c2c(C)cc(C=O)cc2)=O)=O'\n",
    "output = dfs_with_processing1(start, transform_func, match_pdts, target_output, param_list)"
   ]
  },
  {
   "cell_type": "code",
   "execution_count": 12,
   "id": "88c5e1fd",
   "metadata": {},
   "outputs": [
    {
     "data": {
      "text/plain": [
       "['[CH3:0][CH2:1][C:2]([CH:3]1[CH2:4][CH2:5][C:6](=[O:8])[CH2:7]1)=[O:9].[OH-:10]>O=Cc1c(C)cc(C=O)cc1>[CH3:0][CH2:1][C:2]([CH:3]1[CH2:4][CH2:5][C:6](=[O:8])[CH-:7]1)=[O:9].[OH2:10]',\n",
       " '[CH3:0][CH2:1][C:2]([CH:3]1[CH2:4][CH2:5][C:6](=[O:7])[CH-:8]1)=[O:9].[O:10]=[CH:11][c:12]1[c:13]([CH3:14])[cH:15][c:16]([CH:17]=[O:18])[cH:19][cH:20]1>[OH2:10]>[CH3:0][CH2:1][C:2]([CH:3]1[CH2:4][CH2:5][C:6](=[O:7])[CH:8]1[CH:11]([O-:10])[c:12]1[c:13]([CH3:14])[cH:15][c:16]([CH:17]=[O:18])[cH:19][cH:20]1)=[O:9]',\n",
       " '[CH3:0][CH2:1][C:2]([CH:3]1[CH2:4][CH2:5][C:6](=[O:7])[CH:8]1[CH:9]([O-:10])[c:11]1[c:12]([CH3:13])[cH:14][c:15]([CH:16]=[O:17])[cH:18][cH:19]1)=[O:20].[OH2:21]>>[CH3:0][CH2:1][C:2]([CH:3]1[CH2:4][CH2:5][C:6](=[O:7])[CH:8]1[CH:9]([OH:10])[c:11]1[c:12]([CH3:13])[cH:14][c:15]([CH:16]=[O:17])[cH:18][cH:19]1)=[O:20].[OH-:21]',\n",
       " '[CH3:0][CH2:1][C:2]([CH:3]1[CH2:4][CH2:5][C:6](=[O:7])[CH:8]1[CH:9]([OH:10])[c:11]1[c:12]([CH3:13])[cH:14][c:15]([CH:16]=[O:17])[cH:18][cH:19]1)=[O:20]>[OH-:21]>[CH3:0][CH2:1][C:2]([CH:3]1[CH2:4][CH2:5][C:6](=[O:7])[C-:8]1[CH:9]([OH:10])[c:11]1[c:12]([CH3:13])[cH:14][c:15]([CH:16]=[O:17])[cH:18][cH:19]1)=[O:20]']"
      ]
     },
     "execution_count": 12,
     "metadata": {},
     "output_type": "execute_result"
    }
   ],
   "source": [
    "mechanism = [output[i][1] for i in range(len(output))]\n",
    "mechanism"
   ]
  },
  {
   "cell_type": "code",
   "execution_count": null,
   "id": "4133b545",
   "metadata": {},
   "outputs": [],
   "source": []
  },
  {
   "cell_type": "code",
   "execution_count": 13,
   "id": "809b7b64",
   "metadata": {},
   "outputs": [
    {
     "name": "stdout",
     "output_type": "stream",
     "text": [
      "Got it, matched!\n"
     ]
    },
    {
     "data": {
      "text/plain": [
       "['[CH3:0][CH2:1][C:2]([CH:3]1[CH2:4][CH2:5][C:6](=[O:8])[CH2:7]1)=[O:9].[OH-:10]>O=Cc1c(C)cc(C=O)cc1>[CH3:0][CH2:1][C:2]([CH:3]1[CH2:4][CH2:5][C:6](=[O:8])[CH-:7]1)=[O:9].[OH2:10]',\n",
       " '[CH3:0][CH2:1][C:2]([CH:3]1[CH2:4][CH2:5][C:6](=[O:7])[CH-:8]1)=[O:9].[O:10]=[CH:11][c:12]1[c:13]([CH3:14])[cH:15][c:16]([CH:17]=[O:18])[cH:19][cH:20]1>[OH2:10]>[CH3:0][CH2:1][C:2]([CH:3]1[CH2:4][CH2:5][C:6](=[O:7])[CH:8]1[CH:11]([O-:10])[c:12]1[c:13]([CH3:14])[cH:15][c:16]([CH:17]=[O:18])[cH:19][cH:20]1)=[O:9]',\n",
       " '[CH3:0][CH2:1][C:2]([CH:3]1[CH2:4][CH2:5][C:6](=[O:7])[CH:8]1[CH:9]([O-:10])[c:11]1[c:12]([CH3:13])[cH:14][c:15]([CH:16]=[O:17])[cH:18][cH:19]1)=[O:20].[OH2:21]>>[CH3:0][CH2:1][C:2]([CH:3]1[CH2:4][CH2:5][C:6](=[O:7])[CH:8]1[CH:9]([OH:10])[c:11]1[c:12]([CH3:13])[cH:14][c:15]([CH:16]=[O:17])[cH:18][cH:19]1)=[O:20].[OH-:21]',\n",
       " '[CH3:0][CH2:1][C:2]([CH:3]1[CH2:4][CH2:5][C:6](=[O:7])[CH:8]1[CH:9]([OH:10])[c:11]1[c:12]([CH3:13])[cH:14][c:15]([CH:16]=[O:17])[cH:18][cH:19]1)=[O:20]>[OH-:21]>[CH3:0][CH2:1][C:2]([CH:3]1[CH2:4][CH2:5][C:6](=[O:7])[C-:8]1[CH:9]([OH:10])[c:11]1[c:12]([CH3:13])[cH:14][c:15]([CH:16]=[O:17])[cH:18][cH:19]1)=[O:20]']"
      ]
     },
     "execution_count": 13,
     "metadata": {},
     "output_type": "execute_result"
    }
   ],
   "source": [
    "param_list = ['([CH2:1]-[C;H0;D3;+0:2](=[O:3])-[*:5].[OH-:4])>>[CH-:1]-[C;H0;D3;+0:2](=[O:3])-[*:5].[OH2;+0:4]',\n",
    "              '([CH-:1]-[C;H0;D3;+0:2]=[O:3].[O:4]=[C;H1;D2;+0:5][*;H0;+0:6])>>[O;-1:4]-[C;H1;D3;+0:5](-[*;H0;+0:6])-[CH;+0:1]-[C;H0;D3;+0:2]=[O:3]',\n",
    "             '([O-:1].[OH2:2])>>[OH;+0:1].[OH-:2]',\n",
    "             '([O:1]=[C;H0:2]-[C;H1:3])>>[O:1]=[C;H0:2]-[C;H0;-1:3]']\n",
    "\n",
    "\n",
    "start = 'O=Cc1c(C)cc(C=O)cc1.CCC(C2CCC(C2)=O)=O.[OH-]'\n",
    "target_output = 'CCC(C1CCC([C-]1C(O)c2c(C)cc(C=O)cc2)=O)=O'\n",
    "output = dfs_with_processing1(start, transform_func, match_pdts, target_output, param_list)\n",
    "mechanism = [output[i][1] for i in range(len(output))]\n",
    "mechanism"
   ]
  },
  {
   "cell_type": "code",
   "execution_count": 14,
   "id": "78b2386f",
   "metadata": {},
   "outputs": [],
   "source": [
    "# template_smarts_str = '([C;-1:1]-[C:2]-[OH:3])>>[C;+0:1]=[C:2].[OH-:3]'\n",
    "# str_of_smiles = '[CH3:0][C-:1]([C:2]([CH:3]1[CH2:4][CH2:5][C:6](=[O:7])[CH2:8]1)=[O:9])[CH:10]([c:11]1[cH:12][c:13]([CH3:14])[c:15]([CH:16]=[O:17])[cH:18][cH:19]1)[OH:20].[OH-:21]'\n",
    "# reactant_reagents = find_all_reac_reag_comb(template_smarts_str,str_of_smiles)\n",
    "# reactants_smiles_list = reactant_reagents[0][0]\n",
    "# reagents_smiles_list = reactant_reagents[0][1]"
   ]
  },
  {
   "cell_type": "code",
   "execution_count": 15,
   "id": "3d67dd4a",
   "metadata": {},
   "outputs": [],
   "source": [
    "# rxn = AllChem.ReactionFromSmarts('([C;-1:1]-[C:2]-[OH:3])>>[C;+0:1]=[C:2].[OH-:3]')\n",
    "# rxn"
   ]
  },
  {
   "cell_type": "code",
   "execution_count": 16,
   "id": "d778a32f",
   "metadata": {
    "scrolled": false
   },
   "outputs": [
    {
     "name": "stdout",
     "output_type": "stream",
     "text": [
      "No valid reactant-reagent combinations found for: ([C;-1:1]-[C:2]-[OH:3])>>[C;+0:1]=[C:2].[OH-:3] with [CH3:0][CH:1]([C:2]([C-:3]1[CH2:4][CH2:5][C:6](=[O:7])[CH2:8]1)=[O:9])[CH:10]([OH:11])[c:12]1[c:13]([CH3:14])[cH:15][c:16]([CH:17]=[O:18])[cH:19][cH:20]1.[OH2:21]\n",
      "No valid reactant-reagent combinations found for: ([C;-1:1]-[C:2]-[OH:3])>>[C;+0:1]=[C:2].[OH-:3] with [CH3:0][CH:1]([C:2]([C-:3]1[CH2:4][CH2:5][C:6](=[O:7])[CH2:8]1)=[O:9])[CH:10]([c:11]1[cH:12][c:13]([CH3:14])[c:15]([CH:16]=[O:17])[cH:18][cH:19]1)[OH:20].[OH2:21]\n",
      "No valid reactant-reagent combinations found for: ([C;-1:1]-[C:2]-[OH:3])>>[C;+0:1]=[C:2].[OH-:3] with [CH3:0][CH2:1][C:2]([C-:3]1[CH2:4][CH2:5][C:6](=[O:7])[CH:8]1[CH:9]([c:10]1[cH:11][c:12]([CH3:13])[c:14]([CH:15]=[O:16])[cH:17][cH:18]1)[OH:19])=[O:20].[OH2:21]\n",
      "No valid reactant-reagent combinations found for: ([C;-1:1]-[C:2]-[OH:3])>>[C;+0:1]=[C:2].[OH-:3] with [CH3:0][CH2:1][C:2]([C-:3]1[CH2:4][CH2:5][C:6](=[O:7])[CH:8]1[CH:9]([OH:10])[c:11]1[c:12]([CH3:13])[cH:14][c:15]([CH:16]=[O:17])[cH:18][cH:19]1)=[O:20].[OH2:21]\n",
      "Got it, matched!\n"
     ]
    },
    {
     "data": {
      "text/plain": [
       "['[CH3:0][CH2:1][C:2]([CH:3]1[CH2:4][CH2:5][C:6](=[O:8])[CH2:7]1)=[O:9].[OH-:10]>O=Cc1c(C)cc(C=O)cc1>[CH3:0][CH2:1][C:2]([CH:3]1[CH2:4][CH2:5][C:6](=[O:8])[CH-:7]1)=[O:9].[OH2:10]',\n",
       " '[CH3:0][CH2:1][C:2]([CH:3]1[CH2:4][CH2:5][C:6](=[O:7])[CH-:8]1)=[O:9].[O:10]=[CH:11][c:12]1[c:13]([CH3:14])[cH:15][c:16]([CH:17]=[O:18])[cH:19][cH:20]1>[OH2:10]>[CH3:0][CH2:1][C:2]([CH:3]1[CH2:4][CH2:5][C:6](=[O:7])[CH:8]1[CH:11]([O-:10])[c:12]1[c:13]([CH3:14])[cH:15][c:16]([CH:17]=[O:18])[cH:19][cH:20]1)=[O:9]',\n",
       " '[CH3:0][CH2:1][C:2]([CH:3]1[CH2:4][CH2:5][C:6](=[O:7])[CH:8]1[CH:9]([O-:10])[c:11]1[c:12]([CH3:13])[cH:14][c:15]([CH:16]=[O:17])[cH:18][cH:19]1)=[O:20].[OH2:21]>>[CH3:0][CH2:1][C:2]([CH:3]1[CH2:4][CH2:5][C:6](=[O:7])[CH:8]1[CH:9]([OH:10])[c:11]1[c:12]([CH3:13])[cH:14][c:15]([CH:16]=[O:17])[cH:18][cH:19]1)=[O:20].[OH-:21]',\n",
       " '[CH3:0][CH2:1][C:2]([CH:3]1[CH2:4][CH2:5][C:6](=[O:7])[CH:8]1[CH:9]([OH:10])[c:11]1[c:12]([CH3:13])[cH:14][c:15]([CH:16]=[O:17])[cH:18][cH:19]1)=[O:20].[OH-:21]>>[CH3:0][CH2:1][C:2]([CH:3]1[CH2:4][CH2:5][C:6](=[O:7])[C-:8]1[CH:9]([OH:10])[c:11]1[c:12]([CH3:13])[cH:14][c:15]([CH:16]=[O:17])[cH:18][cH:19]1)=[O:20].[OH2:21]',\n",
       " '[CH3:0][CH2:1][C:2]([CH:3]1[CH2:4][CH2:5][C:6](=[O:7])[C-:8]1[CH:9]([OH:10])[c:11]1[c:12]([CH3:13])[cH:14][c:15]([CH:16]=[O:17])[cH:18][cH:19]1)=[O:20]>[OH2:21]>[CH3:0][CH2:1][C:2]([CH:3]1[CH2:4][CH2:5][C:6](=[O:7])[C:8]1=[CH:9][c:11]1[c:12]([CH3:13])[cH:14][c:15]([CH:16]=[O:17])[cH:18][cH:19]1)=[O:20].[OH-:10]']"
      ]
     },
     "execution_count": 16,
     "metadata": {},
     "output_type": "execute_result"
    }
   ],
   "source": [
    "param_list = ['([CH2:1]-[C;H0;D3;+0:2](=[O:3])-[*:5].[OH-:4])>>[CH-:1]-[C;H0;D3;+0:2](=[O:3])-[*:5].[OH2;+0:4]',\n",
    "              '([CH-:1]-[C;H0;D3;+0:2]=[O:3].[O:4]=[C;H1;D2;+0:5][*;H0;+0:6])>>[O;-1:4]-[C;H1;D3;+0:5](-[*;H0;+0:6])-[CH;+0:1]-[C;H0;D3;+0:2]=[O:3]',\n",
    "             '([O-:1].[OH2:2])>>[OH;+0:1].[OH-:2]',\n",
    "             '([O:1]=[C;H0:2]-[C;H1:3].[OH-:4])>>[O:1]=[C;H0:2]-[C;H0;-1:3].[OH2;+0:4]',\n",
    "             '([C;-1:1]-[C:2]-[OH:3])>>[C;+0:1]=[C:2].[OH-:3]']\n",
    "\n",
    "\n",
    "start = 'O=Cc1c(C)cc(C=O)cc1.CCC(C2CCC(C2)=O)=O.[OH-]'\n",
    "target_output = 'CCC(C1CCC(C1=Cc2ccc(C=O)cc2C)=O)=O'\n",
    "output = dfs_with_processing1(start, transform_func, match_pdts, target_output, param_list)\n",
    "mechanism = [output[i][1] for i in range(len(output))]\n",
    "mechanism"
   ]
  },
  {
   "cell_type": "code",
   "execution_count": 17,
   "id": "b583c12c",
   "metadata": {},
   "outputs": [
    {
     "name": "stdout",
     "output_type": "stream",
     "text": [
      "No valid reactant-reagent combinations found for: ([C;-1:1]-[C:2]-[OH:3])>>[C;+0:1]=[C:2].[OH-:3] with [CH3:0][CH2:1][C:2]([C-:3]1[CH2:4][CH2:5][C:6](=[O:7])[CH:8]1[CH:9]([c:10]1[cH:11][cH:12][c:13]([CH:14]=[O:15])[c:16]([Br:17])[cH:18]1)[OH:19])=[O:20].[OH2:21]\n",
      "Got it, matched!\n"
     ]
    },
    {
     "data": {
      "text/plain": [
       "['[CH3:0][CH2:1][C:2]([CH:3]1[CH2:4][CH2:5][C:6](=[O:8])[CH2:7]1)=[O:9].[OH-:10]>O=Cc2ccc(C=O)cc2Br>[CH3:0][CH2:1][C:2]([CH:3]1[CH2:4][CH2:5][C:6](=[O:8])[CH-:7]1)=[O:9].[OH2:10]',\n",
       " '[CH3:0][CH2:1][C:2]([CH:3]1[CH2:4][CH2:5][C:6](=[O:7])[CH-:8]1)=[O:9].[O:10]=[CH:11][c:12]1[cH:13][cH:14][c:15]([CH:16]=[O:17])[cH:18][c:19]1[Br:20]>[OH2:10]>[CH3:0][CH2:1][C:2]([CH:3]1[CH2:4][CH2:5][C:6](=[O:7])[CH:8]1[CH:11]([O-:10])[c:12]1[cH:13][cH:14][c:15]([CH:16]=[O:17])[cH:18][c:19]1[Br:20])=[O:9]',\n",
       " '[CH3:0][CH2:1][C:2]([CH:3]1[CH2:4][CH2:5][C:6](=[O:7])[CH:8]1[CH:9]([O-:10])[c:11]1[cH:12][cH:13][c:14]([CH:15]=[O:16])[cH:17][c:18]1[Br:19])=[O:20].[OH2:21]>>[CH3:0][CH2:1][C:2]([CH:3]1[CH2:4][CH2:5][C:6](=[O:7])[CH:8]1[CH:9]([OH:10])[c:11]1[cH:12][cH:13][c:14]([CH:15]=[O:16])[cH:17][c:18]1[Br:19])=[O:20].[OH-:21]',\n",
       " '[CH3:0][CH2:1][C:2]([CH:3]1[CH2:4][CH2:5][C:6](=[O:7])[CH:8]1[CH:9]([OH:10])[c:11]1[cH:12][cH:13][c:14]([CH:15]=[O:16])[cH:17][c:18]1[Br:19])=[O:20].[OH-:21]>>[CH3:0][CH2:1][C:2]([CH:3]1[CH2:4][CH2:5][C:6](=[O:7])[C-:8]1[CH:9]([OH:10])[c:11]1[cH:12][cH:13][c:14]([CH:15]=[O:16])[cH:17][c:18]1[Br:19])=[O:20].[OH2:21]',\n",
       " '[CH3:0][CH2:1][C:2]([CH:3]1[CH2:4][CH2:5][C:6](=[O:7])[C-:8]1[CH:9]([OH:10])[c:11]1[cH:12][cH:13][c:14]([CH:15]=[O:16])[cH:17][c:18]1[Br:19])=[O:20]>[OH2:21]>[CH3:0][CH2:1][C:2]([CH:3]1[CH2:4][CH2:5][C:6](=[O:7])[C:8]1=[CH:9][c:11]1[cH:12][cH:13][c:14]([CH:15]=[O:16])[cH:17][c:18]1[Br:19])=[O:20].[OH-:10]']"
      ]
     },
     "execution_count": 17,
     "metadata": {},
     "output_type": "execute_result"
    }
   ],
   "source": [
    "#test case1; \n",
    "start = 'CCC(C1CCC(C1)=O)=O.O=Cc2ccc(C=O)cc2Br.[OH-]'\n",
    "target_output = 'CCC(C1CCC(C1=Cc2ccc(C=O)cc2Br)=O)=O' #selectivity: ortho to Bromine coupling\n",
    "output = dfs_with_processing1(start, transform_func, match_pdts, target_output, param_list)\n",
    "mechanism = [output[i][1] for i in range(len(output))]\n",
    "mechanism"
   ]
  },
  {
   "cell_type": "code",
   "execution_count": 18,
   "id": "cdc76157",
   "metadata": {},
   "outputs": [
    {
     "name": "stdout",
     "output_type": "stream",
     "text": [
      "No valid reactant-reagent combinations found for: ([C;-1:1]-[C:2]-[OH:3])>>[C;+0:1]=[C:2].[OH-:3] with [CH3:0][CH2:1][C:2]([C-:3]1[CH2:4][CH2:5][C:6](=[O:7])[CH:8]1[CH:9]([c:10]1[cH:11][cH:12][c:13]([CH:14]=[O:15])[c:16]([Br:17])[cH:18]1)[OH:19])=[O:20].[OH2:21]\n",
      "Got it, matched!\n"
     ]
    },
    {
     "data": {
      "text/plain": [
       "['[CH3:0][CH2:1][C:2]([CH:3]1[CH2:4][CH2:5][C:6](=[O:8])[CH2:7]1)=[O:9].[OH-:10]>O=Cc2ccc(C=O)cc2Br>[CH3:0][CH2:1][C:2]([CH:3]1[CH2:4][CH2:5][C:6](=[O:8])[CH-:7]1)=[O:9].[OH2:10]',\n",
       " '[CH3:0][CH2:1][C:2]([CH:3]1[CH2:4][CH2:5][C:6](=[O:7])[CH-:8]1)=[O:9].[O:10]=[CH:11][c:12]1[cH:13][cH:14][c:15]([CH:16]=[O:17])[cH:18][c:19]1[Br:20]>[OH2:10]>[CH3:0][CH2:1][C:2]([CH:3]1[CH2:4][CH2:5][C:6](=[O:7])[CH:8]1[CH:16]([c:15]1[cH:14][cH:13][c:12]([CH:11]=[O:10])[c:19]([Br:20])[cH:18]1)[O-:17])=[O:9]',\n",
       " '[CH3:0][CH2:1][C:2]([CH:3]1[CH2:4][CH2:5][C:6](=[O:7])[CH:8]1[CH:9]([c:10]1[cH:11][cH:12][c:13]([CH:14]=[O:15])[c:16]([Br:17])[cH:18]1)[O-:19])=[O:20].[OH2:21]>>[CH3:0][CH2:1][C:2]([CH:3]1[CH2:4][CH2:5][C:6](=[O:7])[CH:8]1[CH:9]([c:10]1[cH:11][cH:12][c:13]([CH:14]=[O:15])[c:16]([Br:17])[cH:18]1)[OH:19])=[O:20].[OH-:21]',\n",
       " '[CH3:0][CH2:1][C:2]([CH:3]1[CH2:4][CH2:5][C:6](=[O:7])[CH:8]1[CH:9]([c:10]1[cH:11][cH:12][c:13]([CH:14]=[O:15])[c:16]([Br:17])[cH:18]1)[OH:19])=[O:20].[OH-:21]>>[CH3:0][CH2:1][C:2]([CH:3]1[CH2:4][CH2:5][C:6](=[O:7])[C-:8]1[CH:9]([c:10]1[cH:11][cH:12][c:13]([CH:14]=[O:15])[c:16]([Br:17])[cH:18]1)[OH:19])=[O:20].[OH2:21]',\n",
       " '[CH3:0][CH2:1][C:2]([CH:3]1[CH2:4][CH2:5][C:6](=[O:7])[C-:8]1[CH:9]([c:10]1[cH:11][cH:12][c:13]([CH:14]=[O:15])[c:16]([Br:17])[cH:18]1)[OH:19])=[O:20]>[OH2:21]>[CH3:0][CH2:1][C:2]([CH:3]1[CH2:4][CH2:5][C:6](=[O:7])[C:8]1=[CH:9][c:10]1[cH:11][cH:12][c:13]([CH:14]=[O:15])[c:16]([Br:17])[cH:18]1)=[O:20].[OH-:19]']"
      ]
     },
     "execution_count": 18,
     "metadata": {},
     "output_type": "execute_result"
    }
   ],
   "source": [
    "#test case2; \n",
    "start = 'CCC(C1CCC(C1)=O)=O.O=Cc2ccc(C=O)cc2Br.[OH-]'\n",
    "target_output = 'CCC(C1CCC(/C1=C\\c2cc(Br)c(C=O)cc2)=O)=O' #selectivity: meta to Bromine coupling\n",
    "output = dfs_with_processing1(start, transform_func, match_pdts, target_output, param_list)\n",
    "mechanism = [output[i][1] for i in range(len(output))]\n",
    "mechanism"
   ]
  },
  {
   "cell_type": "code",
   "execution_count": 19,
   "id": "33252391",
   "metadata": {},
   "outputs": [],
   "source": [
    "# smiles = '[CH3:0][CH:1]([C:2]([C-:3]1[CH2:4][CH2:5][C:6](=[O:7])[CH2:8]1)=[O:9])[CH:10]([OH:11])[c:12]1[c:13]([CH3:14])[cH:15][c:16]([CH:17]=[O:18])[cH:19][cH:20]1.[OH-:21]'\n",
    "# temp = '([*;-1:1]-[*:2]-[OH:3])>>[C;+0:1]=[C:2].[OH-:3]'\n",
    "# reactant_reagents = find_all_reac_reag_comb(temp,smiles)\n",
    "# reactant_reagents"
   ]
  },
  {
   "cell_type": "code",
   "execution_count": 21,
   "id": "b0592898",
   "metadata": {},
   "outputs": [],
   "source": [
    "# smiles = 'C[C-](C(c1ccc(C=O)cc1C)O)C(C2CCC(C2)=O)=O.[OH-]'\n",
    "# temp = '([*;-1:1]-[*:2]-[OH:3])>>[C;+0:1]=[C:2].[OH-:3]'\n",
    "# reactant_reagents = find_all_reac_reag_comb(temp,smiles)\n",
    "# reactant_reagents"
   ]
  },
  {
   "cell_type": "code",
   "execution_count": null,
   "id": "e2e035eb",
   "metadata": {},
   "outputs": [],
   "source": []
  }
 ],
 "metadata": {
  "kernelspec": {
   "display_name": "Python 3 (ipykernel)",
   "language": "python",
   "name": "python3"
  },
  "language_info": {
   "codemirror_mode": {
    "name": "ipython",
    "version": 3
   },
   "file_extension": ".py",
   "mimetype": "text/x-python",
   "name": "python",
   "nbconvert_exporter": "python",
   "pygments_lexer": "ipython3",
   "version": "3.10.13"
  }
 },
 "nbformat": 4,
 "nbformat_minor": 5
}
