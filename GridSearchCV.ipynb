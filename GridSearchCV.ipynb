{
 "cells": [
  {
   "cell_type": "code",
   "execution_count": 1,
   "metadata": {},
   "outputs": [],
   "source": [
    "import numpy as np\n",
    "import pandas as pd\n",
    "import os\n",
    "from sklearn.ensemble import RandomForestRegressor\n",
    "from sklearn.metrics import mean_squared_error\n",
    "from math import sqrt\n",
    "from sklearn.model_selection import train_test_split\n",
    "from sklearn.model_selection import GridSearchCV"
   ]
  },
  {
   "cell_type": "code",
   "execution_count": 2,
   "metadata": {},
   "outputs": [],
   "source": [
    "#Go to your folder and read the csv file, \n",
    "#remember to label column carefully and the last column should have the output values\n",
    "os.chdir('###############')\n",
    "df=pd.read_csv('experimental.csv')"
   ]
  },
  {
   "cell_type": "code",
   "execution_count": 3,
   "metadata": {},
   "outputs": [],
   "source": [
    "#Not doing any preprocessing/Normalization/Standardization\n",
    "#separate the feature matrix from the output and label the feature matrix as X and output as y\n",
    "X=df.iloc[:,:-1]\n",
    "y=df.iloc[:,-1]"
   ]
  },
  {
   "cell_type": "code",
   "execution_count": 21,
   "metadata": {},
   "outputs": [],
   "source": [
    "#Now lets define the function to do GridSearchCV\n",
    "#Few assumption are : default test size=0.2, kFoldCV=5, range of hyperparameter\n",
    "#as these will be in the function not as argument\n",
    "def model(X, y, seed):\n",
    "    \"\"\"for a given dataset with feature i.e. X and output y and seed value for\n",
    "    train test splitting, it will do hyperparameter tuning via kFold cross validation\"\"\"\n",
    "    X_train, X_test, y_train, y_test=train_test_split(X,y, random_state=seed, test_size=0.2)\n",
    "    \n",
    "    cv=5\n",
    "    hyperparameter_space=dict()\n",
    "    hyperparameter_space['n_estimators'] = list(range(100, 600, 100)) #Only five values will be checked\n",
    "    \n",
    "    model=RandomForestRegressor()\n",
    "    clf=GridSearchCV(model, hyperparameter_space, scoring='neg_mean_squared_error', cv=cv) #Currently I don't understand the 'scoring'\n",
    "    clf.fit(X_train, y_train)\n",
    "    \n",
    "    #calculate the train_rmse\n",
    "    train_pred=clf.predict(X_train)\n",
    "    train_mse=mean_squared_error(y_train, train_pred)\n",
    "    train_rmse=sqrt(train_mse)\n",
    "    \n",
    "    #calculate the test rmse\n",
    "    \n",
    "    test_pred=clf.predict(X_test)\n",
    "    test_mse=mean_squared_error(y_test, test_pred)\n",
    "    test_rmse=sqrt(test_mse)\n",
    "    \n",
    "    #what do you want it to return\n",
    "    return (seed, clf.best_params_, train_rmse, test_rmse)  "
   ]
  },
  {
   "cell_type": "code",
   "execution_count": 22,
   "metadata": {},
   "outputs": [
    {
     "data": {
      "text/plain": [
       "(1, {'n_estimators': 300}, 3.5576744958436093, 6.085129021239259)"
      ]
     },
     "execution_count": 22,
     "metadata": {},
     "output_type": "execute_result"
    }
   ],
   "source": [
    "#First try it for a single seed; so called 'run' according to sir\n",
    "model(X, y, 1)\n",
    "\n",
    "#So, the result shows that among the five different n_estimator, n_est=200 is the best\n",
    "#Now the immediate question, what are the sample description in the test set, we want to see it\n",
    "#we will see it later"
   ]
  },
  {
   "cell_type": "code",
   "execution_count": 11,
   "metadata": {},
   "outputs": [
    {
     "name": "stdout",
     "output_type": "stream",
     "text": [
      "[1, 2, 3, 4, 5, 6, 7, 8, 9, 10]\n"
     ]
    }
   ],
   "source": [
    "#Now imagine you want 10 different train test splitting, so how will you do that?\n",
    "#first, make a list of seed values of your interest and then apply a for loop to the model\n",
    "seeds=list(range(1, 11))\n",
    "print(seeds)"
   ]
  },
  {
   "cell_type": "code",
   "execution_count": 12,
   "metadata": {},
   "outputs": [],
   "source": [
    "#Here are the 10 runs\n",
    "result=[model(X, y, i) for i in seeds]"
   ]
  },
  {
   "cell_type": "code",
   "execution_count": 13,
   "metadata": {},
   "outputs": [
    {
     "data": {
      "text/plain": [
       "[(1, {'n_estimators': 300}, 3.7790497409328245, 6.500951880992074),\n",
       " (2, {'n_estimators': 100}, 3.7665723118996706, 6.702750646620327),\n",
       " (3, {'n_estimators': 100}, 2.9207954165577243, 12.690365912770206),\n",
       " (4, {'n_estimators': 400}, 3.581770238592549, 10.076043146512655),\n",
       " (5, {'n_estimators': 300}, 3.612764953167811, 5.184847517312137),\n",
       " (6, {'n_estimators': 200}, 3.7869901567228013, 7.305555450635339),\n",
       " (7, {'n_estimators': 400}, 3.724346483232124, 5.539640612909138),\n",
       " (8, {'n_estimators': 500}, 3.584257193081135, 7.7283209855300665),\n",
       " (9, {'n_estimators': 400}, 3.6358837785277975, 9.262919101127805),\n",
       " (10, {'n_estimators': 400}, 3.478560947003695, 8.19379789782397)]"
      ]
     },
     "execution_count": 13,
     "metadata": {},
     "output_type": "execute_result"
    }
   ],
   "source": [
    "result"
   ]
  },
  {
   "cell_type": "code",
   "execution_count": 23,
   "metadata": {},
   "outputs": [],
   "source": [
    "#Okay, before I leave today, lets set it for 100 run, so that i can compare with the lab's code\n",
    "seeds=list(range(1, 101))\n",
    "result_100=[model(X, y, i) for i in seeds]"
   ]
  },
  {
   "cell_type": "code",
   "execution_count": null,
   "metadata": {},
   "outputs": [],
   "source": [
    "result_100"
   ]
  },
  {
   "cell_type": "code",
   "execution_count": null,
   "metadata": {},
   "outputs": [],
   "source": []
  }
 ],
 "metadata": {
  "kernelspec": {
   "display_name": "Python 3",
   "language": "python",
   "name": "python3"
  },
  "language_info": {
   "codemirror_mode": {
    "name": "ipython",
    "version": 3
   },
   "file_extension": ".py",
   "mimetype": "text/x-python",
   "name": "python",
   "nbconvert_exporter": "python",
   "pygments_lexer": "ipython3",
   "version": "3.8.5"
  }
 },
 "nbformat": 4,
 "nbformat_minor": 4
}
