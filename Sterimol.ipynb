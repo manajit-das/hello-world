{
 "cells": [
  {
   "cell_type": "code",
   "execution_count": 59,
   "metadata": {},
   "outputs": [],
   "source": [
    "#To get the sterimol parameters, main code is based on Paton's work, I modified according to my requirement\n",
    "from sterimol import sterimoltools"
   ]
  },
  {
   "cell_type": "code",
   "execution_count": 60,
   "metadata": {},
   "outputs": [],
   "source": [
    "def st_val(file):\n",
    "    file_params=sterimoltools.calcSterimol(file, 'cpk', 1, 2, False)\n",
    "    lval = file_params.lval; B1 = file_params.B1; B5 = file_params.newB5\n",
    "    print (file, lval, B1, B5)"
   ]
  },
  {
   "cell_type": "code",
   "execution_count": 64,
   "metadata": {},
   "outputs": [],
   "source": [
    "import os\n",
    "file_location=os.path.join('C:/xxx/xxx/xxx/xxx/', '*.com') #Assuming that you have all the .com files in this directory\n",
    "#print(file_location)"
   ]
  },
  {
   "cell_type": "code",
   "execution_count": 62,
   "metadata": {},
   "outputs": [],
   "source": [
    "import glob\n",
    "filenames=glob.glob(file_location)"
   ]
  },
  {
   "cell_type": "code",
   "execution_count": 63,
   "metadata": {},
   "outputs": [
    {
     "name": "stdout",
     "output_type": "stream",
     "text": [
      "11a.com 2.470000008745245 1.50440173748196 2.00880578362611\n",
      "12a.com 8.183772219630917 2.670574037454246 5.541800937730881\n",
      "13a.com 6.273782252487634 3.8725625537717954 6.383679463718321\n"
     ]
    }
   ],
   "source": [
    "for f in filenames:\n",
    "    file_name=os.path.basename(f)\n",
    "    st_val(file_name)"
   ]
  },
  {
   "cell_type": "code",
   "execution_count": null,
   "metadata": {},
   "outputs": [],
   "source": [
    "#I am not still able to write the output to a csv file, but i will do it oneday sure!!"
   ]
  }
 ],
 "metadata": {
  "kernelspec": {
   "display_name": "Python 3",
   "language": "python",
   "name": "python3"
  },
  "language_info": {
   "codemirror_mode": {
    "name": "ipython",
    "version": 3
   },
   "file_extension": ".py",
   "mimetype": "text/x-python",
   "name": "python",
   "nbconvert_exporter": "python",
   "pygments_lexer": "ipython3",
   "version": "3.8.5"
  }
 },
 "nbformat": 4,
 "nbformat_minor": 4
}
