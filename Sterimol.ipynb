{
 "cells": [
  {
   "cell_type": "code",
   "execution_count": 34,
   "metadata": {},
   "outputs": [],
   "source": [
    "from rdkit import Chem\n",
    "from rdkit.Chem import AllChem\n",
    "import pandas as pd\n",
    "import numpy as np\n",
    "import re,os, random, subprocess\n",
    "import MAP_paths"
   ]
  },
  {
   "cell_type": "code",
   "execution_count": 40,
   "metadata": {},
   "outputs": [],
   "source": [
    "os.chdir('C:/Users/Manajit/Dropbox/My PC (LAPTOP-RNB01NCM)/Desktop')"
   ]
  },
  {
   "cell_type": "code",
   "execution_count": 2,
   "metadata": {},
   "outputs": [],
   "source": [
    "smiles=['CP(C1=CC=CC=C1)C(C)C2=CC=CC=C2', 'CP(C1=CC=CC=C1)CC', 'CCP(C1=CC=CC=C1)C2CCCC2']"
   ]
  },
  {
   "cell_type": "code",
   "execution_count": 3,
   "metadata": {},
   "outputs": [],
   "source": [
    "mols=[Chem.MolFromSmiles(i) for i in smiles]"
   ]
  },
  {
   "cell_type": "code",
   "execution_count": 6,
   "metadata": {},
   "outputs": [
    {
     "data": {
      "image/png": "[encoded data removed]",
      "text/plain": [
       "<rdkit.Chem.rdchem.Mol at 0x218085c7580>"
      ]
     },
     "execution_count": 6,
     "metadata": {},
     "output_type": "execute_result"
    }
   ],
   "source": [
    "mols[2]"
   ]
  },
  {
   "cell_type": "code",
   "execution_count": 7,
   "metadata": {},
   "outputs": [],
   "source": [
    "import pandas as pd"
   ]
  },
  {
   "cell_type": "code",
   "execution_count": 8,
   "metadata": {},
   "outputs": [],
   "source": [
    "df=pd.DataFrame(zip(smiles, mols ))"
   ]
  },
  {
   "cell_type": "code",
   "execution_count": 10,
   "metadata": {},
   "outputs": [],
   "source": [
    "df.columns=['smile', 'mol']"
   ]
  },
  {
   "cell_type": "code",
   "execution_count": 11,
   "metadata": {},
   "outputs": [
    {
     "data": {
      "text/html": [
       "<div>\n",
       "<style scoped>\n",
       "    .dataframe tbody tr th:only-of-type {\n",
       "        vertical-align: middle;\n",
       "    }\n",
       "\n",
       "    .dataframe tbody tr th {\n",
       "        vertical-align: top;\n",
       "    }\n",
       "\n",
       "    .dataframe thead th {\n",
       "        text-align: right;\n",
       "    }\n",
       "</style>\n",
       "<table border=\"1\" class=\"dataframe\">\n",
       "  <thead>\n",
       "    <tr style=\"text-align: right;\">\n",
       "      <th></th>\n",
       "      <th>smile</th>\n",
       "      <th>mol</th>\n",
       "    </tr>\n",
       "  </thead>\n",
       "  <tbody>\n",
       "    <tr>\n",
       "      <th>0</th>\n",
       "      <td>CP(C1=CC=CC=C1)C(C)C2=CC=CC=C2</td>\n",
       "      <td>&lt;rdkit.Chem.rdchem.Mol object at 0x00000218085...</td>\n",
       "    </tr>\n",
       "    <tr>\n",
       "      <th>1</th>\n",
       "      <td>CP(C1=CC=CC=C1)CC</td>\n",
       "      <td>&lt;rdkit.Chem.rdchem.Mol object at 0x00000218085...</td>\n",
       "    </tr>\n",
       "    <tr>\n",
       "      <th>2</th>\n",
       "      <td>CCP(C1=CC=CC=C1)C2CCCC2</td>\n",
       "      <td>&lt;rdkit.Chem.rdchem.Mol object at 0x00000218085...</td>\n",
       "    </tr>\n",
       "  </tbody>\n",
       "</table>\n",
       "</div>"
      ],
      "text/plain": [
       "                            smile  \\\n",
       "0  CP(C1=CC=CC=C1)C(C)C2=CC=CC=C2   \n",
       "1               CP(C1=CC=CC=C1)CC   \n",
       "2         CCP(C1=CC=CC=C1)C2CCCC2   \n",
       "\n",
       "                                                 mol  \n",
       "0  <rdkit.Chem.rdchem.Mol object at 0x00000218085...  \n",
       "1  <rdkit.Chem.rdchem.Mol object at 0x00000218085...  \n",
       "2  <rdkit.Chem.rdchem.Mol object at 0x00000218085...  "
      ]
     },
     "execution_count": 11,
     "metadata": {},
     "output_type": "execute_result"
    }
   ],
   "source": [
    "df"
   ]
  },
  {
   "cell_type": "code",
   "execution_count": 18,
   "metadata": {},
   "outputs": [],
   "source": [
    "rxn = AllChem.ReactionFromSmarts('[P:1].[F:2]>>[P+:1][F:2]')"
   ]
  },
  {
   "cell_type": "code",
   "execution_count": 19,
   "metadata": {},
   "outputs": [
    {
     "data": {
      "image/png": "[encoded data removed]",
      "text/plain": [
       "<rdkit.Chem.rdChemReactions.ChemicalReaction at 0x2180a5f09e0>"
      ]
     },
     "execution_count": 19,
     "metadata": {},
     "output_type": "execute_result"
    }
   ],
   "source": [
    "rxn"
   ]
  },
  {
   "cell_type": "code",
   "execution_count": 23,
   "metadata": {},
   "outputs": [],
   "source": [
    "ps = [rxn.RunReactants((Chem.MolFromSmiles(i), Chem.MolFromSmiles('F'))) for i in df['smile']]"
   ]
  },
  {
   "cell_type": "code",
   "execution_count": 32,
   "metadata": {},
   "outputs": [],
   "source": [
    "df['pro_smiles']=[Chem.MolToSmiles(i[0][0]) for i in ps]"
   ]
  },
  {
   "cell_type": "code",
   "execution_count": 31,
   "metadata": {},
   "outputs": [
    {
     "data": {
      "text/plain": [
       "['CC(c1ccccc1)[P+](C)(F)c1ccccc1',\n",
       " 'CC[P+](C)(F)c1ccccc1',\n",
       " 'CC[P+](F)(c1ccccc1)C1CCCC1']"
      ]
     },
     "execution_count": 31,
     "metadata": {},
     "output_type": "execute_result"
    }
   ],
   "source": [
    "pro_smiles"
   ]
  },
  {
   "cell_type": "code",
   "execution_count": 38,
   "metadata": {},
   "outputs": [],
   "source": [
    "df['name']=['mol1.sdf', 'mol2.sdf', 'mol3.sdf']"
   ]
  },
  {
   "cell_type": "code",
   "execution_count": 39,
   "metadata": {},
   "outputs": [
    {
     "data": {
      "text/html": [
       "<div>\n",
       "<style scoped>\n",
       "    .dataframe tbody tr th:only-of-type {\n",
       "        vertical-align: middle;\n",
       "    }\n",
       "\n",
       "    .dataframe tbody tr th {\n",
       "        vertical-align: top;\n",
       "    }\n",
       "\n",
       "    .dataframe thead th {\n",
       "        text-align: right;\n",
       "    }\n",
       "</style>\n",
       "<table border=\"1\" class=\"dataframe\">\n",
       "  <thead>\n",
       "    <tr style=\"text-align: right;\">\n",
       "      <th></th>\n",
       "      <th>smile</th>\n",
       "      <th>mol</th>\n",
       "      <th>pro_smiles</th>\n",
       "      <th>name</th>\n",
       "    </tr>\n",
       "  </thead>\n",
       "  <tbody>\n",
       "    <tr>\n",
       "      <th>0</th>\n",
       "      <td>CP(C1=CC=CC=C1)C(C)C2=CC=CC=C2</td>\n",
       "      <td>&lt;rdkit.Chem.rdchem.Mol object at 0x00000218085...</td>\n",
       "      <td>CC(c1ccccc1)[P+](C)(F)c1ccccc1</td>\n",
       "      <td>mol1.sdf</td>\n",
       "    </tr>\n",
       "    <tr>\n",
       "      <th>1</th>\n",
       "      <td>CP(C1=CC=CC=C1)CC</td>\n",
       "      <td>&lt;rdkit.Chem.rdchem.Mol object at 0x00000218085...</td>\n",
       "      <td>CC[P+](C)(F)c1ccccc1</td>\n",
       "      <td>mol2.sdf</td>\n",
       "    </tr>\n",
       "    <tr>\n",
       "      <th>2</th>\n",
       "      <td>CCP(C1=CC=CC=C1)C2CCCC2</td>\n",
       "      <td>&lt;rdkit.Chem.rdchem.Mol object at 0x00000218085...</td>\n",
       "      <td>CC[P+](F)(c1ccccc1)C1CCCC1</td>\n",
       "      <td>mol3.sdf</td>\n",
       "    </tr>\n",
       "  </tbody>\n",
       "</table>\n",
       "</div>"
      ],
      "text/plain": [
       "                            smile  \\\n",
       "0  CP(C1=CC=CC=C1)C(C)C2=CC=CC=C2   \n",
       "1               CP(C1=CC=CC=C1)CC   \n",
       "2         CCP(C1=CC=CC=C1)C2CCCC2   \n",
       "\n",
       "                                                 mol  \\\n",
       "0  <rdkit.Chem.rdchem.Mol object at 0x00000218085...   \n",
       "1  <rdkit.Chem.rdchem.Mol object at 0x00000218085...   \n",
       "2  <rdkit.Chem.rdchem.Mol object at 0x00000218085...   \n",
       "\n",
       "                       pro_smiles      name  \n",
       "0  CC(c1ccccc1)[P+](C)(F)c1ccccc1  mol1.sdf  \n",
       "1            CC[P+](C)(F)c1ccccc1  mol2.sdf  \n",
       "2      CC[P+](F)(c1ccccc1)C1CCCC1  mol3.sdf  "
      ]
     },
     "execution_count": 39,
     "metadata": {},
     "output_type": "execute_result"
    }
   ],
   "source": [
    "df"
   ]
  },
  {
   "cell_type": "code",
   "execution_count": 37,
   "metadata": {},
   "outputs": [],
   "source": [
    "def smile_to_SDF(smile, file_name):\n",
    "    mol=Chem.MolFromSmiles(smile)\n",
    "    hmol=Chem.AddHs(mol)\n",
    "    AllChem.EmbedMolecule(hmol, AllChem.ETKDG())\n",
    "    print(AllChem.UFFOptimizeMolecule(hmol, 1000 ))\n",
    "    writer = Chem.SDWriter(file_name)\n",
    "    writer.write(hmol)\n",
    "    return(file_name)\n",
    "\n",
    "def parse_SDF(sdf_file_name):\n",
    "    try:\n",
    "        fo=open(sdf_file_name, 'r')\n",
    "        data=fo.readlines()\n",
    "        fo.close()\n",
    "    except:\n",
    "        print(\">> ERROR: cannot open the sdf file\")\n",
    "        return \"\"\n",
    "    xyz_block=''\n",
    "\n",
    "    #find and crop xyz block\n",
    "    for i in range(len(data)-1):\n",
    "        m = re.search('((-)?(\\d)+.(\\d)+(\\s){1,}){3}([a-zA-Z]{1,2})', data[i])\n",
    "        if m:\n",
    "            # we found the first line in the coordinates block\n",
    "            # need to save the charge and multiplicity\n",
    "            t = (m.group(0)).split()\n",
    "            coord = t[-1] + '\\t' + t[0]+ '\\t' + t[1]+ '\\t' + t[2]+ '\\n'\n",
    "            xyz_block = xyz_block + (coord)\n",
    "            #print (coord)\n",
    "\n",
    "    return xyz_block\n",
    "\n",
    "def create_guassianINP(filename, coordinates_list, charge, multiplicity, option):\n",
    "    my_template=MAP_paths.ALL_OPTIONS.get(option)\n",
    "    my_input=(my_template.substitute(TITLE=(filename.split('.com')[0]), CHARGE=charge, MULT=multiplicity, XYZ=coordinates_list))\n",
    "    fw=open(filename, 'w')\n",
    "    fw.write(my_input)\n",
    "    fw.close()\n",
    "    return (filename)\n",
    "\n",
    "def MAP_generate_g09(smile, file_name, charge, option):\n",
    "    my_sdf=smile_to_SDF(smile, file_name)\n",
    "    coordinates=parse_SDF(my_sdf)\n",
    "    gaussian_name=my_sdf.split('.sdf')[0]+'_'+option+'.com'\n",
    "    file_created=create_guassianINP(gaussian_name, coordinates, charge, 1, option)\n",
    "    print('>>', file_created)"
   ]
  },
  {
   "cell_type": "code",
   "execution_count": 45,
   "metadata": {},
   "outputs": [
    {
     "name": "stdout",
     "output_type": "stream",
     "text": [
      "0\n",
      ">> mol1_OPT.com\n",
      "0\n",
      ">> mol2_OPT.com\n",
      "0\n",
      ">> mol3_OPT.com\n"
     ]
    },
    {
     "data": {
      "text/plain": [
       "[None, None, None]"
      ]
     },
     "execution_count": 45,
     "metadata": {},
     "output_type": "execute_result"
    }
   ],
   "source": [
    "[MAP_generate_g09(i, j, 0, 'OPT') for i, j in zip(df['pro_smiles'], df['name'])]"
   ]
  },
  {
   "cell_type": "code",
   "execution_count": 53,
   "metadata": {},
   "outputs": [],
   "source": [
    "smi = 'CC(c1ccccc1)[P+](C)(F)c1ccccc1'\n",
    "mol = Chem.MolFromSmiles(smi)\n",
    "patt = Chem.MolFromSmarts('PF')\n",
    "hit_ats = list(mol.GetSubstructMatch(patt))"
   ]
  },
  {
   "cell_type": "code",
   "execution_count": 54,
   "metadata": {},
   "outputs": [
    {
     "data": {
      "text/plain": [
       "[8, 10]"
      ]
     },
     "execution_count": 54,
     "metadata": {},
     "output_type": "execute_result"
    }
   ],
   "source": [
    "hit_ats"
   ]
  },
  {
   "cell_type": "code",
   "execution_count": null,
   "metadata": {},
   "outputs": [],
   "source": []
  }
 ],
 "metadata": {
  "kernelspec": {
   "display_name": "Python 3",
   "language": "python",
   "name": "python3"
  },
  "language_info": {
   "codemirror_mode": {
    "name": "ipython",
    "version": 3
   },
   "file_extension": ".py",
   "mimetype": "text/x-python",
   "name": "python",
   "nbconvert_exporter": "python",
   "pygments_lexer": "ipython3",
   "version": "3.7.6"
  }
 },
 "nbformat": 4,
 "nbformat_minor": 4
}
