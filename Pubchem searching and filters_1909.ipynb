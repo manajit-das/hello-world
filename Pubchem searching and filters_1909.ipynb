{
 "cells": [
  {
   "cell_type": "code",
   "execution_count": 1,
   "id": "smaller-impossible",
   "metadata": {},
   "outputs": [
    {
     "name": "stdout",
     "output_type": "stream",
     "text": [
      "C:\\Users\\\n"
     ]
    }
   ],
   "source": [
    "#Import the required library and check the directory you are in\n",
    "import os\n",
    "import pandas as pd\n",
    "import requests, time, io\n",
    "from rdkit import Chem\n",
    "from io import StringIO\n",
    "import matplotlib.pyplot as plt    \n",
    "from rdkit.Chem import Draw\n",
    "from rdkit.Chem import AllChem\n",
    "print(os.getcwd())\n",
    "\n",
    "#Don't run the code here ; its a clean file to collect the code snippets only; you will get error here since no data is uploaded"
   ]
  },
  {
   "cell_type": "code",
   "execution_count": 2,
   "id": "western-secret",
   "metadata": {},
   "outputs": [],
   "source": [
    "# The function to get the molecules from pubchem; with the requirement of given substructure\n",
    "#The function will save the smiles with its molecular weight and CID \n",
    "\n",
    "def get_molecules(query, file_name):\n",
    "    prolog=\"https://pubchem.ncbi.nlm.nih.gov/rest/pug\"\n",
    "    mydata = { 'smiles' : query }\n",
    "    url = prolog + \"/compound/fastsubstructure/smiles/cids/txt?Stereo=exact\"\n",
    "    res = requests.post(url, data=mydata)\n",
    "    cids = res.text.split()\n",
    "    print(\"# Number of CIDs: {}\".format(len(cids)))\n",
    "    chunk_size = 50\n",
    "    if ( len(cids) % chunk_size == 0 ) :\n",
    "        num_chunks = len(cids) // chunk_size\n",
    "    else :\n",
    "        num_chunks = len(cids) // chunk_size + 1\n",
    "    cids_list=cids\n",
    "    print(\"# Number of chunks:{}\".format(num_chunks ))\n",
    "    csv = \"\"   #sets a variable called csv to save the comma separated output\n",
    "    for i in range(num_chunks) :\n",
    "        print(i, end=\" \")\n",
    "        idx1 = chunk_size * i\n",
    "        idx2 = chunk_size * (i + 1)\n",
    "        cids_str = \",\".join([ str(x) for x in cids_list[idx1:idx2] ]) # build pug input for chunks of data\n",
    "        url = prolog + \"/compound/cid/\" + cids_str + \"/property/MolecularWeight,CanonicalSMILES/csv\"\n",
    "        res = requests.get(url)\n",
    "        if ( i == 0 ) : # if this is the first request, store result in empty csv variable\n",
    "            csv = res.text \n",
    "        else :          # if this is a subsequent request, add the request to the csv variable adding a new line between chunks\n",
    "            csv = csv + \"\\n\".join(res.text.split()[1:]) + \"\\n\" \n",
    "        time.sleep(0.2)\n",
    "    csv_file = StringIO(csv)\n",
    "    df_raw = pd.read_csv(csv_file, sep=\",\")\n",
    "    return df_raw.to_csv('{}.csv'.format(file_name), index=False)"
   ]
  },
  {
   "cell_type": "code",
   "execution_count": null,
   "id": "committed-runner",
   "metadata": {},
   "outputs": [],
   "source": [
    "#a for loop to get all the mol file of the smiles from the dataframe\n",
    "mols=[Chem.MolFromSmiles(i) for i in df['CanonicalSMILES']]"
   ]
  },
  {
   "cell_type": "code",
   "execution_count": null,
   "id": "consolidated-invite",
   "metadata": {},
   "outputs": [],
   "source": [
    "#This is one of the most useful function \n",
    "# It removes all the unnecessary fragments from the obtained smile\n",
    "#Couple of plus point here is that it removes the metallic fragment as generally\n",
    "#they are combined in the smiles with ('.')\n",
    "\n",
    "def get_largest_fragment(smile):\n",
    "    molecules=smile.split('.')\n",
    "    molecules.sort(key=len)\n",
    "    return(molecules[-1])\n",
    "\n",
    "#Now apply this function to your dataframe to get the smiles with only the largest fragment"
   ]
  },
  {
   "cell_type": "code",
   "execution_count": null,
   "id": "killing-jason",
   "metadata": {},
   "outputs": [],
   "source": [
    "# A function to find the number of atoms/substructure in a smile\n",
    "#you need a dataframe with a column containg the mols and column_name 'mol'\n",
    "\n",
    "def number_of_atoms(atom_list, df):\n",
    "    for i in atom_list:\n",
    "        df['num_of_{}_atoms'.format(i)] = df['mol'].apply(lambda x: len(x.GetSubstructMatches(Chem.MolFromSmiles(i))))\n",
    "\n",
    "number_of_atoms(['C','O', 'N', 'P'], df)"
   ]
  },
  {
   "cell_type": "code",
   "execution_count": null,
   "id": "loose-friend",
   "metadata": {},
   "outputs": [],
   "source": [
    "#common filters to get molecules with desired constraint like\n",
    "df=df[df['num_of_N_atoms']==3]\n",
    "df=df[df['num_of_O_atoms']<=4]\n",
    "df=df[df['num_of_P_atoms']==0]\n",
    "..."
   ]
  },
  {
   "cell_type": "code",
   "execution_count": null,
   "id": "romantic-vancouver",
   "metadata": {},
   "outputs": [],
   "source": [
    "#one filter to get the low molecular weight compounds\n",
    "df=df[df['MolecularWeight']<=700]"
   ]
  },
  {
   "cell_type": "code",
   "execution_count": null,
   "id": "blank-repeat",
   "metadata": {},
   "outputs": [],
   "source": [
    "#Don't forget to remove the duplicates smiles; pandas are very useful to do that \n",
    "#for example\n",
    "\n",
    "df.drop_duplicates(subset='CanonicalSMILES', keep='first', inplace=True)"
   ]
  }
 ],
 "metadata": {
  "kernelspec": {
   "display_name": "Python 3",
   "language": "python",
   "name": "python3"
  },
  "language_info": {
   "codemirror_mode": {
    "name": "ipython",
    "version": 3
   },
   "file_extension": ".py",
   "mimetype": "text/x-python",
   "name": "python",
   "nbconvert_exporter": "python",
   "pygments_lexer": "ipython3",
   "version": "3.6.12"
  }
 },
 "nbformat": 4,
 "nbformat_minor": 5
}
