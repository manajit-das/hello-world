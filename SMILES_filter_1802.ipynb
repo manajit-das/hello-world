{
 "cells": [
  {
   "cell_type": "code",
   "execution_count": 1,
   "id": "streaming-phrase",
   "metadata": {},
   "outputs": [],
   "source": [
    "#import the required library\n",
    "from rdkit import Chem\n",
    "from rdkit.Chem import Descriptors"
   ]
  },
  {
   "cell_type": "code",
   "execution_count": 11,
   "id": "chemical-harvard",
   "metadata": {},
   "outputs": [],
   "source": [
    "#Yes I have done it; ThankYouGod; I love you more than any other thing in this world\n",
    "def molecule_filter(smiles_list, filename):\n",
    "    \n",
    "    for smile in smiles_list:\n",
    "        molecules=smile.split('.')\n",
    "        molecules.sort(key=len)\n",
    "        largest_fragment=molecules[-1]\n",
    "        mol=Chem.MolFromSmiles(largest_fragment)\n",
    "        if mol is None:\n",
    "            continue\n",
    "        Num_N=len(mol.GetSubstructMatches(Chem.MolFromSmiles('N')))\n",
    "        Num_P=len(mol.GetSubstructMatches(Chem.MolFromSmiles('P')))\n",
    "        Num_O=len(mol.GetSubstructMatches(Chem.MolFromSmiles('O')))\n",
    "        MW=Descriptors.ExactMolWt(mol)\n",
    "        Num_radical=Descriptors.NumRadicalElectrons(mol)\n",
    "        for atom in mol.GetAtoms():\n",
    "            if atom.GetAtomicNum()==15:\n",
    "                P_val=atom.GetExplicitValence()\n",
    "        cation=smile.find('+')\n",
    "        anion=smile.find('-')\n",
    "        Num_metal=[]\n",
    "        allowed_atoms=[1, 5, 6, 7, 8, 9, 14, 15, 16, 17, 35, 53]\n",
    "        atoms_list=[atom.GetAtomicNum() for atom in (mol.GetAtoms())]\n",
    "        atoms_set=set(atoms_list)\n",
    "        for atom in atoms_set:\n",
    "            if atom not in allowed_atoms:\n",
    "                Num_metal.append(atom)\n",
    "        NumOfMetal=len(Num_metal)\n",
    "        if ((Num_N<=2) and (Num_P==1) and (Num_radical==0) and (NumOfMetal==0) and (Num_O<=4) and (MW<=700) and (P_val==3) and (cation==-1) and (anion==-1)):\n",
    "            f=open(\"{}.csv\".format(filename), 'a+')\n",
    "            f.write(largest_fragment)\n",
    "            f.writelines('\\n')\n",
    "            f.close()"
   ]
  },
  {
   "cell_type": "code",
   "execution_count": 3,
   "id": "approved-shadow",
   "metadata": {},
   "outputs": [],
   "source": [
    "#demo to showcase the code"
   ]
  },
  {
   "cell_type": "code",
   "execution_count": 6,
   "id": "animated-night",
   "metadata": {},
   "outputs": [],
   "source": [
    "import os\n",
    "import pandas as pd\n",
    "os.chdir('C:/Users/sunoj/downloads')"
   ]
  },
  {
   "cell_type": "code",
   "execution_count": 7,
   "id": "plastic-chemical",
   "metadata": {},
   "outputs": [],
   "source": [
    "df=pd.read_csv('monophosphine.csv')"
   ]
  },
  {
   "cell_type": "code",
   "execution_count": 8,
   "id": "coral-contributor",
   "metadata": {},
   "outputs": [
    {
     "data": {
      "text/html": [
       "<div>\n",
       "<style scoped>\n",
       "    .dataframe tbody tr th:only-of-type {\n",
       "        vertical-align: middle;\n",
       "    }\n",
       "\n",
       "    .dataframe tbody tr th {\n",
       "        vertical-align: top;\n",
       "    }\n",
       "\n",
       "    .dataframe thead th {\n",
       "        text-align: right;\n",
       "    }\n",
       "</style>\n",
       "<table border=\"1\" class=\"dataframe\">\n",
       "  <thead>\n",
       "    <tr style=\"text-align: right;\">\n",
       "      <th></th>\n",
       "      <th>CID</th>\n",
       "      <th>MolecularWeight</th>\n",
       "      <th>CanonicalSMILES</th>\n",
       "    </tr>\n",
       "  </thead>\n",
       "  <tbody>\n",
       "    <tr>\n",
       "      <th>0</th>\n",
       "      <td>13097</td>\n",
       "      <td>278.3</td>\n",
       "      <td>C1=CC=C(C=C1)P(=O)(C2=CC=CC=C2)C3=CC=CC=C3</td>\n",
       "    </tr>\n",
       "    <tr>\n",
       "      <th>1</th>\n",
       "      <td>11776</td>\n",
       "      <td>262.3</td>\n",
       "      <td>C1=CC=C(C=C1)P(C2=CC=CC=C2)C3=CC=CC=C3</td>\n",
       "    </tr>\n",
       "    <tr>\n",
       "      <th>2</th>\n",
       "      <td>74505</td>\n",
       "      <td>357.2</td>\n",
       "      <td>C[P+](C1=CC=CC=C1)(C2=CC=CC=C2)C3=CC=CC=C3.[Br-]</td>\n",
       "    </tr>\n",
       "    <tr>\n",
       "      <th>3</th>\n",
       "      <td>70671</td>\n",
       "      <td>388.9</td>\n",
       "      <td>C1=CC=C(C=C1)C[P+](C2=CC=CC=C2)(C3=CC=CC=C3)C4...</td>\n",
       "    </tr>\n",
       "    <tr>\n",
       "      <th>4</th>\n",
       "      <td>13956</td>\n",
       "      <td>304.4</td>\n",
       "      <td>CC1=CC=C(C=C1)P(C2=CC=C(C=C2)C)C3=CC=C(C=C3)C</td>\n",
       "    </tr>\n",
       "  </tbody>\n",
       "</table>\n",
       "</div>"
      ],
      "text/plain": [
       "     CID  MolecularWeight                                    CanonicalSMILES\n",
       "0  13097            278.3         C1=CC=C(C=C1)P(=O)(C2=CC=CC=C2)C3=CC=CC=C3\n",
       "1  11776            262.3             C1=CC=C(C=C1)P(C2=CC=CC=C2)C3=CC=CC=C3\n",
       "2  74505            357.2   C[P+](C1=CC=CC=C1)(C2=CC=CC=C2)C3=CC=CC=C3.[Br-]\n",
       "3  70671            388.9  C1=CC=C(C=C1)C[P+](C2=CC=CC=C2)(C3=CC=CC=C3)C4...\n",
       "4  13956            304.4      CC1=CC=C(C=C1)P(C2=CC=C(C=C2)C)C3=CC=C(C=C3)C"
      ]
     },
     "execution_count": 8,
     "metadata": {},
     "output_type": "execute_result"
    }
   ],
   "source": [
    "df.head()"
   ]
  },
  {
   "cell_type": "code",
   "execution_count": 9,
   "id": "inappropriate-there",
   "metadata": {},
   "outputs": [],
   "source": [
    "demo_list=df['CanonicalSMILES'][:50]"
   ]
  },
  {
   "cell_type": "code",
   "execution_count": 10,
   "id": "colored-anthony",
   "metadata": {},
   "outputs": [],
   "source": [
    "#now I will apply the function"
   ]
  },
  {
   "cell_type": "code",
   "execution_count": 12,
   "id": "distant-marsh",
   "metadata": {},
   "outputs": [],
   "source": [
    "molecule_filter(demo_list, 'demo_output')"
   ]
  },
  {
   "cell_type": "code",
   "execution_count": 15,
   "id": "human-excitement",
   "metadata": {},
   "outputs": [
    {
     "data": {
      "text/html": [
       "<div>\n",
       "<style scoped>\n",
       "    .dataframe tbody tr th:only-of-type {\n",
       "        vertical-align: middle;\n",
       "    }\n",
       "\n",
       "    .dataframe tbody tr th {\n",
       "        vertical-align: top;\n",
       "    }\n",
       "\n",
       "    .dataframe thead th {\n",
       "        text-align: right;\n",
       "    }\n",
       "</style>\n",
       "<table border=\"1\" class=\"dataframe\">\n",
       "  <thead>\n",
       "    <tr style=\"text-align: right;\">\n",
       "      <th></th>\n",
       "      <th>C1=CC=C(C=C1)P(C2=CC=CC=C2)C3=CC=CC=C3</th>\n",
       "    </tr>\n",
       "  </thead>\n",
       "  <tbody>\n",
       "    <tr>\n",
       "      <th>0</th>\n",
       "      <td>CC1=CC=C(C=C1)P(C2=CC=C(C=C2)C)C3=CC=C(C=C3)C</td>\n",
       "    </tr>\n",
       "    <tr>\n",
       "      <th>1</th>\n",
       "      <td>C1=CC=C(C=C1)P(C2=CC=CC=C2)C3=CC=CC=C3C(=O)O</td>\n",
       "    </tr>\n",
       "    <tr>\n",
       "      <th>2</th>\n",
       "      <td>C1CCC(CC1)P(C2CCCCC2)C3CCCCC3</td>\n",
       "    </tr>\n",
       "    <tr>\n",
       "      <th>3</th>\n",
       "      <td>COC1=CC=C(C=C1)P(C2=CC=C(C=C2)OC)C3=CC=C(C=C3)OC</td>\n",
       "    </tr>\n",
       "    <tr>\n",
       "      <th>4</th>\n",
       "      <td>C1=CC=C(C=C1)P(C2=CC=CC=C2)C3=CC=C(C=C3)C(=O)O</td>\n",
       "    </tr>\n",
       "    <tr>\n",
       "      <th>5</th>\n",
       "      <td>C1=CC(=CC=C1F)P(C2=CC=C(C=C2)F)C3=CC=C(C=C3)F</td>\n",
       "    </tr>\n",
       "    <tr>\n",
       "      <th>6</th>\n",
       "      <td>CC1=CC(=CC=C1)P(C2=CC=CC(=C2)C)C3=CC=CC(=C3)C</td>\n",
       "    </tr>\n",
       "    <tr>\n",
       "      <th>7</th>\n",
       "      <td>CC1=CC=CC=C1P(C2=CC=CC=C2C)C3=CC=CC=C3C</td>\n",
       "    </tr>\n",
       "    <tr>\n",
       "      <th>8</th>\n",
       "      <td>C1=CC(=CC=C1P(C2=CC=C(C=C2)Cl)C3=CC=C(C=C3)Cl)Cl</td>\n",
       "    </tr>\n",
       "    <tr>\n",
       "      <th>9</th>\n",
       "      <td>C1=CC=C(C=C1)P(C2=CC=CC=C2)C3=CC=CC=C3</td>\n",
       "    </tr>\n",
       "    <tr>\n",
       "      <th>10</th>\n",
       "      <td>C1=CC=C(C=C1)P(C2=CC=CC=C2)C3=CC=CC=C3</td>\n",
       "    </tr>\n",
       "    <tr>\n",
       "      <th>11</th>\n",
       "      <td>C=CC1=CC=C(C=C1)P(C2=CC=CC=C2)C3=CC=CC=C3</td>\n",
       "    </tr>\n",
       "  </tbody>\n",
       "</table>\n",
       "</div>"
      ],
      "text/plain": [
       "              C1=CC=C(C=C1)P(C2=CC=CC=C2)C3=CC=CC=C3\n",
       "0      CC1=CC=C(C=C1)P(C2=CC=C(C=C2)C)C3=CC=C(C=C3)C\n",
       "1       C1=CC=C(C=C1)P(C2=CC=CC=C2)C3=CC=CC=C3C(=O)O\n",
       "2                      C1CCC(CC1)P(C2CCCCC2)C3CCCCC3\n",
       "3   COC1=CC=C(C=C1)P(C2=CC=C(C=C2)OC)C3=CC=C(C=C3)OC\n",
       "4     C1=CC=C(C=C1)P(C2=CC=CC=C2)C3=CC=C(C=C3)C(=O)O\n",
       "5      C1=CC(=CC=C1F)P(C2=CC=C(C=C2)F)C3=CC=C(C=C3)F\n",
       "6      CC1=CC(=CC=C1)P(C2=CC=CC(=C2)C)C3=CC=CC(=C3)C\n",
       "7            CC1=CC=CC=C1P(C2=CC=CC=C2C)C3=CC=CC=C3C\n",
       "8   C1=CC(=CC=C1P(C2=CC=C(C=C2)Cl)C3=CC=C(C=C3)Cl)Cl\n",
       "9             C1=CC=C(C=C1)P(C2=CC=CC=C2)C3=CC=CC=C3\n",
       "10            C1=CC=C(C=C1)P(C2=CC=CC=C2)C3=CC=CC=C3\n",
       "11         C=CC1=CC=C(C=C1)P(C2=CC=CC=C2)C3=CC=CC=C3"
      ]
     },
     "execution_count": 15,
     "metadata": {},
     "output_type": "execute_result"
    }
   ],
   "source": [
    "df1=pd.read_csv('demo_output.csv')\n",
    "df1.rename"
   ]
  },
  {
   "cell_type": "code",
   "execution_count": null,
   "id": "sweet-headquarters",
   "metadata": {},
   "outputs": [],
   "source": []
  }
 ],
 "metadata": {
  "kernelspec": {
   "display_name": "Python 3",
   "language": "python",
   "name": "python3"
  },
  "language_info": {
   "codemirror_mode": {
    "name": "ipython",
    "version": 3
   },
   "file_extension": ".py",
   "mimetype": "text/x-python",
   "name": "python",
   "nbconvert_exporter": "python",
   "pygments_lexer": "ipython3",
   "version": "3.6.12"
  }
 },
 "nbformat": 4,
 "nbformat_minor": 5
}
