{
 "cells": [
  {
   "cell_type": "code",
   "execution_count": 1,
   "id": "60d3f9ab",
   "metadata": {},
   "outputs": [],
   "source": [
    "smilesList1=['c1ccc(-c2c3c(c(-c4ccccc4)c4ccccc24)-c2cc4sc5ccc(P(c6cc7ccccc7c7ccccc67)c6cc7ccccc7c7ccccc67)cc5c4c4cccc-3c24)cc1', 'CC(N=Cc1ccccn1)C1=CC=CC1P(c1ccccc1)c1ccccc1', 'CC(C)(C)OC(=O)NC1CCCCC1NC(=O)c1ccccc1P(c1ccccc1)c1ccccc1', 'C1=C(c2ccccc2)C=C(c2ccc(-c3ccccc3)cc2P(c2ccccc2)c2ccccc2)C1', 'COc1ccccc1-c1c(OC)cccc1P(c1cc(N(C)C)cc(N(C)C)c1)c1cc(N(C)C)cc(N(C)C)c1', 'COc1ccc(Nc2ccc(Cl)cc2)c(P(c2ccccc2)c2ccccc2)c1', 'O=S(=O)(O)c1ccccc1P(c1ccccc1)c1ccccc1', 'O=[N+]([O-])c1cc(O)c(O)c(C=Nc2ccc3ccccc3c2-c2c(P(c3ccccc3)c3ccccc3)ccc3ccccc23)c1', 'Cc1cc(C)c(O)c(P(c2ccccc2)c2ccccc2)c1', 'c1ccc(NC2CCCN2c2c(P(c3ccccc3)c3ccccc3)ccc3ccccc23)cc1']\n",
    "smilesList2=['c1ccc(P(c2ccccc2)c2ccccc2-c2ccco2)cc1', 'CCC(CC)(OC)C(O)C(C(C)C)P(c1ccccc1)c1ccccc1', 'CN(C)CC1CCCN1c1c(P(c2ccccc2)c2ccccc2)cccc1C(C)(C)C', 'COc1ccccc1[P+](O[O])(c1ccccc1C)c1ccccc1OC', 'COC(=O)C1CCC(C(=O)NCCO)C1C(Cl)P(=O)(c1ccccc1)c1ccccc1', 'CCOC(=O)C1(P(=O)(c2ccccc2)c2ccccc2)C=C1', 'Cc1cccc([P+](C)(c2ccccc2)c2ccccc2)c1P(c1ccccc1)c1ccccc1', 'CC1CCCCC(C)P1c1ccccc1-c1cccc2ccccc12', 'CC(=O)OC(C)=CC(C)=P(c1ccccc1)(c1ccccc1)c1ccccc1', 'CCC(C)(C)c1ccc(P(c2ccccc2)c2ccccc2CP(Br)(c2ccccc2)(c2ccccc2)c2ccccc2)cc1']"
   ]
  },
  {
   "cell_type": "code",
   "execution_count": 2,
   "id": "6372d5c3",
   "metadata": {},
   "outputs": [],
   "source": [
    "#Lets say the target is to measure similarity of each mols of smilesList1 with the mols\n",
    "#of smilesList2; how will you do that?"
   ]
  },
  {
   "cell_type": "code",
   "execution_count": 4,
   "id": "27d84c40",
   "metadata": {},
   "outputs": [],
   "source": [
    "from rdkit import Chem\n",
    "from rdkit.Chem import MACCSkeys\n",
    "from rdkit import DataStructs"
   ]
  },
  {
   "cell_type": "code",
   "execution_count": 6,
   "id": "dfd78d12",
   "metadata": {},
   "outputs": [],
   "source": [
    "#make rdkit mol object of all the smiles\n",
    "list1_mol=[Chem.MolFromSmiles(i) for i in smilesList1]\n",
    "list2_mol=[Chem.MolFromSmiles(i) for i in smilesList2]"
   ]
  },
  {
   "cell_type": "code",
   "execution_count": 7,
   "id": "7a2dc39f",
   "metadata": {},
   "outputs": [],
   "source": [
    "#create MACCS keys fingerprint, you can try any fingerprint\n",
    "list1_fps=[MACCSkeys.GenMACCSKeys(mol) for mol in list1_mol]\n",
    "list2_fps=[MACCSkeys.GenMACCSKeys(mol) for mol in list2_mol]"
   ]
  },
  {
   "cell_type": "code",
   "execution_count": 9,
   "id": "6187500b",
   "metadata": {},
   "outputs": [],
   "source": [
    "cids=range(len(list1_fps))"
   ]
  },
  {
   "cell_type": "code",
   "execution_count": 12,
   "id": "318d1493",
   "metadata": {},
   "outputs": [
    {
     "name": "stdout",
     "output_type": "stream",
     "text": [
      "0 0  ****\n",
      "2 4  ****\n",
      "3 0  ****\n",
      "4 3  ****\n",
      "8 3  ****\n",
      "8 6  ****\n",
      "9 2  ****\n"
     ]
    }
   ],
   "source": [
    "#basically it will compare the every molecules of the two list by calculating\n",
    "#tanimoto similarity score, stored it into \"score\" and if the score is greater \n",
    "#than x it will print the index of the two smiles\n",
    "for i in range(0, len(list1_fps)):\n",
    "    for j in range(0, len(list2_fps)):\n",
    "        score = DataStructs.FingerprintSimilarity(list1_fps[i], list2_fps[j])\n",
    "        #print(cids[i], \"vs.\", cids[j], \":\", round(score,3), end='/n')\n",
    "        if ( score >= 0.5 ):\n",
    "            print(i, j, \" ****\")"
   ]
  },
  {
   "cell_type": "code",
   "execution_count": null,
   "id": "8a037d47",
   "metadata": {},
   "outputs": [],
   "source": []
  }
 ],
 "metadata": {
  "kernelspec": {
   "display_name": "Python 3",
   "language": "python",
   "name": "python3"
  },
  "language_info": {
   "codemirror_mode": {
    "name": "ipython",
    "version": 3
   },
   "file_extension": ".py",
   "mimetype": "text/x-python",
   "name": "python",
   "nbconvert_exporter": "python",
   "pygments_lexer": "ipython3",
   "version": "3.8.5"
  }
 },
 "nbformat": 4,
 "nbformat_minor": 5
}
