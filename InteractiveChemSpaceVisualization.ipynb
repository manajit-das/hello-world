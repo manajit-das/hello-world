{
 "cells": [
  {
   "cell_type": "code",
   "execution_count": 1,
   "id": "677ac07f",
   "metadata": {},
   "outputs": [],
   "source": [
    "import pandas as pd\n",
    "import numpy as np\n",
    "import os\n",
    "from rdkit import Chem\n",
    "from rdkit.Chem import PandasTools, rdDepictor, AllChem\n",
    "from rdkit.Chem.Draw import rdMolDraw2D\n",
    "from IPython.display import SVG\n",
    "from rdkit.Chem.PandasTools import ChangeMoleculeRendering\n",
    "\n",
    "#Bokeh library for plotting\n",
    "import json\n",
    "from bokeh.plotting import figure, show, output_notebook, ColumnDataSource\n",
    "from bokeh.models import HoverTool\n",
    "from bokeh.transform import factor_cmap\n",
    "from bokeh.plotting import figure, output_file, save\n",
    "\n",
    "from sklearn.manifold import TSNE"
   ]
  },
  {
   "cell_type": "code",
   "execution_count": 2,
   "id": "0f3750e1",
   "metadata": {},
   "outputs": [
    {
     "data": {
      "text/plain": [
       "'C:\\\\Users\\\\sunoj'"
      ]
     },
     "execution_count": 2,
     "metadata": {},
     "output_type": "execute_result"
    }
   ],
   "source": [
    "import os\n",
    "os.getcwd()"
   ]
  },
  {
   "cell_type": "code",
   "execution_count": 3,
   "id": "dcbd95e9",
   "metadata": {},
   "outputs": [],
   "source": [
    "os.chdir('C://Users/sunoj/Downloads/')"
   ]
  },
  {
   "cell_type": "code",
   "execution_count": 4,
   "id": "9808ff89",
   "metadata": {},
   "outputs": [],
   "source": [
    "df=pd.read_csv('gargee_meta_yield406.csv')"
   ]
  },
  {
   "cell_type": "code",
   "execution_count": 5,
   "id": "498b6ca5",
   "metadata": {},
   "outputs": [
    {
     "data": {
      "text/html": [
       "<div>\n",
       "<style scoped>\n",
       "    .dataframe tbody tr th:only-of-type {\n",
       "        vertical-align: middle;\n",
       "    }\n",
       "\n",
       "    .dataframe tbody tr th {\n",
       "        vertical-align: top;\n",
       "    }\n",
       "\n",
       "    .dataframe thead th {\n",
       "        text-align: right;\n",
       "    }\n",
       "</style>\n",
       "<table border=\"1\" class=\"dataframe\">\n",
       "  <thead>\n",
       "    <tr style=\"text-align: right;\">\n",
       "      <th></th>\n",
       "      <th>smiles</th>\n",
       "      <th>Yield</th>\n",
       "    </tr>\n",
       "  </thead>\n",
       "  <tbody>\n",
       "    <tr>\n",
       "      <th>0</th>\n",
       "      <td>CC1(C)[N+](c2c(C(C)C)cccc2C(C)C)=C([Ru]3(Cl)(C...</td>\n",
       "      <td>67</td>\n",
       "    </tr>\n",
       "    <tr>\n",
       "      <th>1</th>\n",
       "      <td>CC1(C)[N+](c2c(C(C)C)cccc2C(C)C)=C([Ru]3(Cl)(C...</td>\n",
       "      <td>71</td>\n",
       "    </tr>\n",
       "    <tr>\n",
       "      <th>2</th>\n",
       "      <td>CC1(C)[N+](c2c(C(C)C)cccc2C(C)C)=C([Ru]3(Cl)(C...</td>\n",
       "      <td>50</td>\n",
       "    </tr>\n",
       "    <tr>\n",
       "      <th>3</th>\n",
       "      <td>CC1(C)[N+](c2c(C(C)C)cccc2C(C)C)=C([Ru]3(Cl)(C...</td>\n",
       "      <td>71</td>\n",
       "    </tr>\n",
       "    <tr>\n",
       "      <th>4</th>\n",
       "      <td>CC1(C)[N+](c2c(C(C)C)cccc2C(C)C)=C([Ru]3(Cl)(C...</td>\n",
       "      <td>50</td>\n",
       "    </tr>\n",
       "  </tbody>\n",
       "</table>\n",
       "</div>"
      ],
      "text/plain": [
       "                                              smiles  Yield\n",
       "0  CC1(C)[N+](c2c(C(C)C)cccc2C(C)C)=C([Ru]3(Cl)(C...     67\n",
       "1  CC1(C)[N+](c2c(C(C)C)cccc2C(C)C)=C([Ru]3(Cl)(C...     71\n",
       "2  CC1(C)[N+](c2c(C(C)C)cccc2C(C)C)=C([Ru]3(Cl)(C...     50\n",
       "3  CC1(C)[N+](c2c(C(C)C)cccc2C(C)C)=C([Ru]3(Cl)(C...     71\n",
       "4  CC1(C)[N+](c2c(C(C)C)cccc2C(C)C)=C([Ru]3(Cl)(C...     50"
      ]
     },
     "execution_count": 5,
     "metadata": {},
     "output_type": "execute_result"
    }
   ],
   "source": [
    "df.head()"
   ]
  },
  {
   "cell_type": "code",
   "execution_count": 6,
   "id": "69e34cc4",
   "metadata": {},
   "outputs": [
    {
     "name": "stdout",
     "output_type": "stream",
     "text": [
      "(406, 1024)\n"
     ]
    }
   ],
   "source": [
    "mols=[Chem.MolFromSmiles(i) for i in df['smiles']]\n",
    "fps = [AllChem.GetMorganFingerprintAsBitVect(x, 2, nBits=1024) for x in mols if x!=None]\n",
    "X=np.array(fps)\n",
    "print(X.shape)"
   ]
  },
  {
   "cell_type": "code",
   "execution_count": 7,
   "id": "ff14933b",
   "metadata": {},
   "outputs": [],
   "source": [
    "tsne = TSNE(random_state=0).fit_transform(X) #doing TSNE"
   ]
  },
  {
   "cell_type": "code",
   "execution_count": 8,
   "id": "87b3eb52",
   "metadata": {},
   "outputs": [],
   "source": [
    "def _prepareMol(mol,kekulize):\n",
    "    mc = Chem.Mol(mol.ToBinary())\n",
    "    if kekulize:\n",
    "        try:\n",
    "            Chem.Kekulize(mc)\n",
    "        except:\n",
    "            mc = Chem.Mol(mol.ToBinary())\n",
    "    if not mc.GetNumConformers():\n",
    "        rdDepictor.Compute2DCoords(mc)\n",
    "    return mc\n",
    "\n",
    "def moltosvg(mol,molSize=(450,200),kekulize=True,drawer=None,**kwargs):\n",
    "    mc = _prepareMol(mol,kekulize)\n",
    "    if drawer is None:\n",
    "        drawer = rdMolDraw2D.MolDraw2DSVG(molSize[0],molSize[1])\n",
    "    drawer.DrawMolecule(mc,**kwargs)\n",
    "    drawer.FinishDrawing()\n",
    "    svg = drawer.GetDrawingText()\n",
    "    return SVG(svg.replace('svg:',''))"
   ]
  },
  {
   "cell_type": "code",
   "execution_count": 10,
   "id": "bd823f3c",
   "metadata": {},
   "outputs": [
    {
     "name": "stderr",
     "output_type": "stream",
     "text": [
      "Loading...: 100%|████████████████████████████████████████████████████████████████████| 100/100 [00:21<00:00,  4.66it/s]\n"
     ]
    }
   ],
   "source": [
    "from tqdm import tqdm\n",
    "  \n",
    "for i in tqdm (range (100), desc=\"Loading...\"):\n",
    "    mols=[Chem.MolFromSmiles(i) for i in df['smiles']]"
   ]
  },
  {
   "cell_type": "code",
   "execution_count": 11,
   "id": "8c344b2f",
   "metadata": {},
   "outputs": [
    {
     "name": "stderr",
     "output_type": "stream",
     "text": [
      "Loading...: 100%|████████████████████████████████████████████████████████████████████| 100/100 [06:21<00:00,  3.81s/it]\n"
     ]
    }
   ],
   "source": [
    "for i in tqdm (range (100), desc=\"Loading...\"):\n",
    "    svgs = [moltosvg(m).data for m in mols]"
   ]
  },
  {
   "cell_type": "code",
   "execution_count": 15,
   "id": "71f4d42a",
   "metadata": {},
   "outputs": [],
   "source": [
    "ChangeMoleculeRendering(renderer='PNG')\n",
    "\n",
    "\n",
    "source = ColumnDataSource(data=dict(x=tsne[:,0], y=tsne[:,1], desc= df.index, \n",
    "                                    svgs=svgs))\n",
    "\n",
    "hover = HoverTool(tooltips=\"\"\"\n",
    "    <div>\n",
    "        <div>@svgs{safe}\n",
    "        </div>\n",
    "        <div>\n",
    "            <span style=\"font-size: 17px; font-weight: bold;\">@desc</span>\n",
    "        </div>\n",
    "    </div>\n",
    "    \"\"\"\n",
    ")\n",
    "interactive_map = figure(plot_width=1000, plot_height=1000, tools=['reset,box_zoom,wheel_zoom,zoom_in,zoom_out,pan',hover],\n",
    "           title=\"Metathesis Reaction Map\")\n",
    "\n",
    "\n",
    "\n",
    "interactive_map.circle('x', 'y', size=5, source=source, fill_alpha=0.2);\n"
   ]
  },
  {
   "cell_type": "code",
   "execution_count": 16,
   "id": "fffb2d91",
   "metadata": {},
   "outputs": [
    {
     "data": {
      "text/plain": [
       "'C:\\\\Users\\\\sunoj\\\\Downloads\\\\Gargee_interactive_map.html'"
      ]
     },
     "execution_count": 16,
     "metadata": {},
     "output_type": "execute_result"
    }
   ],
   "source": [
    "output_file(\"Gargee_interactive_map.html\")\n",
    "save(interactive_map)"
   ]
  },
  {
   "cell_type": "code",
   "execution_count": null,
   "id": "3fc6ba98",
   "metadata": {},
   "outputs": [],
   "source": []
  }
 ],
 "metadata": {
  "kernelspec": {
   "display_name": "Python 3 (ipykernel)",
   "language": "python",
   "name": "python3"
  },
  "language_info": {
   "codemirror_mode": {
    "name": "ipython",
    "version": 3
   },
   "file_extension": ".py",
   "mimetype": "text/x-python",
   "name": "python",
   "nbconvert_exporter": "python",
   "pygments_lexer": "ipython3",
   "version": "3.8.5"
  }
 },
 "nbformat": 4,
 "nbformat_minor": 5
}
